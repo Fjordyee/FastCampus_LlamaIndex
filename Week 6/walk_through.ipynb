{
 "cells": [
  {
   "cell_type": "code",
   "execution_count": 1,
   "metadata": {},
   "outputs": [],
   "source": [
    "# 관련 패키지 임포트\n",
    "import os\n",
    "from llama_index.core import Document\n",
    "from llama_index.core import VectorStoreIndex, SimpleDirectoryReader\n",
    "from llama_index.core.settings import Settings\n",
    "from llama_index.llms.openai import OpenAI\n",
    "from llama_index.embeddings.openai import OpenAIEmbedding\n",
    "from pprint import pprint\n",
    "import nest_asyncio\n",
    "\n",
    "nest_asyncio.apply()\n",
    "\n",
    "# 활용 LLM API 정보 설정\n",
    "os.environ[\"OPENAI_API_KEY\"] = ''\n",
    "\n",
    "Settings.llm = OpenAI(model=\"gpt-4o-mini\", temperature=0)\n",
    "Settings.embed_model = OpenAIEmbedding(model=\"text-embedding-3-small\")\n",
    "#Settings.chunk_size = 256"
   ]
  },
  {
   "cell_type": "code",
   "execution_count": 2,
   "metadata": {},
   "outputs": [],
   "source": [
    "documents = SimpleDirectoryReader('data').load_data()\n",
    "index = VectorStoreIndex.from_documents(documents)"
   ]
  },
  {
   "cell_type": "code",
   "execution_count": null,
   "metadata": {},
   "outputs": [],
   "source": [
    "documents"
   ]
  },
  {
   "cell_type": "code",
   "execution_count": null,
   "metadata": {},
   "outputs": [],
   "source": [
    "len(documents)"
   ]
  },
  {
   "cell_type": "code",
   "execution_count": 3,
   "metadata": {},
   "outputs": [],
   "source": [
    "query_engine = index.as_query_engine()"
   ]
  },
  {
   "cell_type": "code",
   "execution_count": 4,
   "metadata": {},
   "outputs": [],
   "source": [
    "response = query_engine.query('공무원으로 일하다가 미국인이 되기로 결심했어. 내 연금은 어떻게 되는거야?')"
   ]
  },
  {
   "cell_type": "code",
   "execution_count": 5,
   "metadata": {},
   "outputs": [
    {
     "name": "stdout",
     "output_type": "stream",
     "text": [
      "('공무원으로 일하다가 미국인이 되기로 결심한 경우, 연금에 대한 구체적인 규정은 해당 법률에 따라 다를 수 있습니다. 일반적으로, 공무원 '\n",
      " '연금은 퇴직 후 지급되며, 퇴직 사유에 따라 지급이 결정됩니다. 만약 퇴직 후 연금 수급 자격이 유지된다면, 연금은 계속 지급될 수 '\n",
      " '있습니다. 그러나 미국으로 이주하는 경우, 연금 수급에 영향을 미칠 수 있는 여러 요인이 있으므로, 관련 법률 및 규정을 확인하고 필요한 '\n",
      " '절차를 따르는 것이 중요합니다.')\n"
     ]
    }
   ],
   "source": [
    "pprint(response.response)"
   ]
  },
  {
   "cell_type": "code",
   "execution_count": null,
   "metadata": {},
   "outputs": [],
   "source": [
    "i = 0\n",
    "for item in response.source_nodes:\n",
    "    i +=1\n",
    "    print(f\"< Source {i} >\\n\")\n",
    "    print(item.metadata)\n",
    "    pprint(item.text)"
   ]
  },
  {
   "cell_type": "code",
   "execution_count": null,
   "metadata": {},
   "outputs": [],
   "source": [
    "from llama_index.core.schema import IndexNode\n",
    "data_list = ['공무원 성과평가','공무원 징계령','공무원 보수 규정','공무원 수당','공무원 연금','공무원 임용','공직자 윤리']\n",
    "nodes = [\n",
    "    IndexNode(text=summary, index_id=f\"{data_list[idx]}\")\n",
    "    for idx, summary in enumerate(summaries)\n",
    "]"
   ]
  },
  {
   "cell_type": "code",
   "execution_count": null,
   "metadata": {},
   "outputs": [],
   "source": [
    "nodes"
   ]
  },
  {
   "cell_type": "code",
   "execution_count": 6,
   "metadata": {},
   "outputs": [],
   "source": [
    "from llama_index.vector_stores.qdrant import QdrantVectorStore\n",
    "from llama_index.core import StorageContext\n",
    "import qdrant_client\n",
    "\n",
    "# Qdrant 클라우드 DB 연결\n",
    "client = qdrant_client.QdrantClient(\n",
    "    url=\"\", \n",
    "    api_key=\"\",\n",
    ")\n",
    "# VectorstoreIndex의 Backend로써 storage_context 부여 및 인덱싱\n",
    "vector_store = QdrantVectorStore(client=client, collection_name=\"example\")\n",
    "#storage_context = StorageContext.from_defaults(vector_store=vector_store)\n",
    "#index = VectorStoreIndex(documents, storage_context=storage_context)\n",
    "index = VectorStoreIndex.from_vector_store(vector_store=vector_store)"
   ]
  },
  {
   "cell_type": "code",
   "execution_count": 7,
   "metadata": {},
   "outputs": [],
   "source": [
    "\n",
    "from llama_index.core.vector_stores import (\n",
    "    MetadataFilter,\n",
    "    MetadataFilters,\n",
    "    FilterOperator,\n",
    ")\n",
    "\n",
    "filters_1 = MetadataFilters(\n",
    "    filters=[\n",
    "        MetadataFilter(key=\"file_path\", operator=FilterOperator.EQ, value=\"/Users/doosolini/Documents/GitHub/FastCampus_LlamaIndex/Week 5/data/공무원 성과평가 등에 관한 규정(대통령령)(제33149호)(20221227).pdf\"),\n",
    "    ]\n",
    ")\n",
    "\n",
    "filters_2 = MetadataFilters(\n",
    "    filters=[\n",
    "        MetadataFilter(key=\"file_name\", operator=FilterOperator.EQ, value=\"공무원 징계령(대통령령)(제33962호)(20240101).pdf\"),\n",
    "    ]\n",
    ")\n",
    "\n",
    "filters_3 = MetadataFilters(\n",
    "    filters=[\n",
    "        MetadataFilter(key=\"file_name\", operator=FilterOperator.EQ, value=\"공무원보수규정(대통령령)(제34099호)(20240112).pdf\"),\n",
    "    ]\n",
    ")\n",
    "\n",
    "filters_4 = MetadataFilters(\n",
    "    filters=[\n",
    "        MetadataFilter(key=\"file_name\", operator=FilterOperator.EQ, value=\"공무원수당 등에 관한 규정(대통령령)(제34618호)(20240701).pdf\"),\n",
    "    ]\n",
    ")\n",
    "\n",
    "filters_5 = MetadataFilters(\n",
    "    filters=[\n",
    "        MetadataFilter(key=\"file_name\", operator=FilterOperator.EQ, value=\"공무원연금법(법률)(제19513호)(20230630).pdf\"),\n",
    "    ]\n",
    ")\n",
    "\n",
    "filters_6 = MetadataFilters(\n",
    "    filters=[\n",
    "        MetadataFilter(key=\"file_name\", operator=FilterOperator.EQ, value=\"공무원임용령(대통령령)(제34608호)(20240627).pdf\"),\n",
    "    ]\n",
    ")\n",
    "\n",
    "filters_7 = MetadataFilters(\n",
    "    filters=[\n",
    "        MetadataFilter(key=\"file_name\", operator=FilterOperator.EQ, value=\"공직자윤리법(법률)(제19563호)(20240719).pdf\"),\n",
    "    ]\n",
    ")"
   ]
  },
  {
   "cell_type": "code",
   "execution_count": 8,
   "metadata": {},
   "outputs": [],
   "source": [
    "query_engine_1=index.as_query_engine(filters=filters_1)\n",
    "query_engine_2=index.as_query_engine(filters=filters_2)\n",
    "query_engine_3=index.as_query_engine(filters=filters_3)\n",
    "query_engine_4=index.as_query_engine(filters=filters_4)\n",
    "query_engine_5=index.as_query_engine(filters=filters_5)\n",
    "query_engine_6=index.as_query_engine(filters=filters_6)\n",
    "query_engine_7=index.as_query_engine(filters=filters_7)"
   ]
  },
  {
   "cell_type": "code",
   "execution_count": 9,
   "metadata": {},
   "outputs": [],
   "source": [
    "naive_engine = index.as_query_engine()\n"
   ]
  },
  {
   "cell_type": "code",
   "execution_count": 10,
   "metadata": {},
   "outputs": [],
   "source": [
    "from llama_index.core.tools import QueryEngineTool\n",
    "\n",
    "query_engine_tools = [\n",
    "    QueryEngineTool.from_defaults(\n",
    "        query_engine=query_engine_1,\n",
    "        description=(\n",
    "            \"공무원의 업무 수행에 대한 성과를 평가하는 기준과 절차에 관련된 내용을 물어볼 때 사용\"\n",
    "        )\n",
    "    ),\n",
    "    QueryEngineTool.from_defaults(\n",
    "        query_engine=query_engine_2,\n",
    "        description=(\n",
    "            \"공무원의 직무 태만이나 법령 위반 등에 대한 징계 절차와 제재 관련된 내용을 물어볼 때 사용\"\n",
    "        )\n",
    "    ),\n",
    "    QueryEngineTool.from_defaults(\n",
    "        query_engine=query_engine_3,\n",
    "        description=(\n",
    "            \"공무원의 급여, 임금, 보수 관련 내용을 물어볼 때 사용\"\n",
    "        )\n",
    "    ),\n",
    "    QueryEngineTool.from_defaults(\n",
    "        query_engine=query_engine_4,\n",
    "        description=(\n",
    "            \"공무원이 직무 수행 중 받는 다양한 수당에 관해 물어볼 때 사용\"\n",
    "        )\n",
    "    ),\n",
    "    QueryEngineTool.from_defaults(\n",
    "        query_engine=query_engine_5,\n",
    "        description=(\n",
    "            \"공무원이 퇴직 후 받는 연금과 관련된 내용을 물어볼 때 사용\"\n",
    "        )\n",
    "    ),\n",
    "    QueryEngineTool.from_defaults(\n",
    "        query_engine=query_engine_6,\n",
    "        description=(\n",
    "            \"공무원의 채용, 임용 절차, 승진과 특진 및 조건과 관련된 내용을 물어볼 때 사용\"\n",
    "        )\n",
    "    ),\n",
    "    QueryEngineTool.from_defaults(\n",
    "        query_engine=query_engine_7,\n",
    "        description=(\n",
    "            \"공무원 및 공직자의 윤리적 기준과 행동 강령에 관련된 내용을 물어볼 때 사용\"\n",
    "        )\n",
    "    ),\n",
    "]\n"
   ]
  },
  {
   "cell_type": "code",
   "execution_count": 11,
   "metadata": {},
   "outputs": [],
   "source": [
    "from llama_index.core.query_engine import RouterQueryEngine\n",
    "from llama_index.core.selectors import LLMSingleSelector, LLMMultiSelector\n",
    "from llama_index.core.selectors import (\n",
    "    PydanticMultiSelector,\n",
    "    PydanticSingleSelector\n",
    ")\n",
    "\n",
    "master_engine = RouterQueryEngine(\n",
    "    selector=PydanticMultiSelector.from_defaults(),\n",
    "    query_engine_tools=query_engine_tools\n",
    ")"
   ]
  },
  {
   "cell_type": "code",
   "execution_count": 12,
   "metadata": {},
   "outputs": [],
   "source": [
    "response = master_engine.query(\n",
    "    '공무원으로 일하다가 미국인이 되기로 결심했어. 내 연금은 어떻게 되는거야?'\n",
    ")"
   ]
  },
  {
   "cell_type": "code",
   "execution_count": 13,
   "metadata": {},
   "outputs": [
    {
     "name": "stdout",
     "output_type": "stream",
     "text": [
      "('공무원으로 일하다가 미국인이 되기로 결심한 경우, 연금인 급여를 받을 권리가 있는 사람은 국적을 상실한 달의 다음 달부터 지급되는 연금인 '\n",
      " '급여를 일시금으로 받을 수 있습니다. 이 일시금은 국적을 상실한 달의 다음 달을 기준으로 한 4년분의 연금에 상당하는 금액으로 '\n",
      " '지급됩니다.')\n"
     ]
    }
   ],
   "source": [
    "pprint(response.response)"
   ]
  },
  {
   "cell_type": "code",
   "execution_count": 14,
   "metadata": {},
   "outputs": [
    {
     "name": "stdout",
     "output_type": "stream",
     "text": [
      "(\"selections=[SingleSelection(index=4, reason='The question specifically asks \"\n",
      " \"about retirement and pension related to becoming a U.S. citizen.')]\")\n"
     ]
    }
   ],
   "source": [
    "pprint(str(response.metadata[\"selector_result\"]))"
   ]
  },
  {
   "cell_type": "code",
   "execution_count": 15,
   "metadata": {},
   "outputs": [
    {
     "data": {
      "text/plain": [
       "{'d0d7e3f6-a779-453f-9b94-2babd19f7873': {'page_label': '7',\n",
       "  'file_name': '공무원연금법(법률)(제19513호)(20230630).pdf',\n",
       "  'file_path': '/Users/doosolini/Downloads/streamlit_test/data/공무원연금법(법률)(제19513호)(20230630).pdf',\n",
       "  'file_type': 'application/pdf',\n",
       "  'file_size': 196708,\n",
       "  'creation_date': '2024-08-23',\n",
       "  'last_modified_date': '2024-08-23'},\n",
       " 'selector_result': MultiSelection(selections=[SingleSelection(index=4, reason='The question specifically asks about retirement and pension related to becoming a U.S. citizen.')])}"
      ]
     },
     "execution_count": 15,
     "metadata": {},
     "output_type": "execute_result"
    }
   ],
   "source": [
    "response.metadata"
   ]
  },
  {
   "cell_type": "markdown",
   "metadata": {},
   "source": [
    "# 쿼리라우터 위에 쿼리 디컴포저 추가하기"
   ]
  },
  {
   "cell_type": "code",
   "execution_count": 16,
   "metadata": {},
   "outputs": [],
   "source": [
    "from llama_index.core import QueryBundle\n",
    "from llama_index.core.retrievers import BaseRetriever\n",
    "from llama_index.core.schema import NodeWithScore\n",
    "import asyncio\n",
    "from tqdm.asyncio import tqdm\n",
    "from llama_index.core.prompts import PromptTemplate\n",
    "from typing import Any, Dict, List\n",
    "query_gen_str = \"\"\"\n",
    "너는 사용자가 대충 쓴 질문에 대해서, 최대한 답변하기 위한 근거를 찾기 위한 다수의 서치 쿼리를 생성해 내야해.\n",
    "사용자의 질문은 기본적으로 공무원 관련된 규정이니까 기본적인 컨텍스트를 공무원으로 인지해.\n",
    "{num_queries}개의 서치 쿼리를 만들어 내고, 하나당 한줄씩 사용해.\n",
    "Query: {query}\n",
    "Queries:\n",
    "\"\"\"\n",
    "query_gen_prompt = PromptTemplate(query_gen_str)\n",
    "\n",
    "llm_decomposer = OpenAI(model=\"gpt-4o-mini\")\n",
    "\n",
    "def generate_queries(llm, query: str, num_queries: int = 3):\n",
    "    response = llm.predict(\n",
    "        query_gen_prompt, num_queries=num_queries, query=query\n",
    "    )\n",
    "    # assume LLM proper put each query on a newline\n",
    "    queries = response.split(\"\\n\")\n",
    "    queries_str = \"\\n\".join(queries)\n",
    "    print(f\"Generated queries:\\n{queries_str}\")\n",
    "    return queries\n",
    "\n",
    "def run_queries(queries, engine):\n",
    "    \"\"\"Run queries against retrievers.\"\"\"\n",
    "    task_results = []\n",
    "    for query in queries:\n",
    "        task_results.append(engine.query(query))\n",
    "\n",
    "    #task_results = await tqdm.gather(*tasks)\n",
    "\n",
    "    results_dict = {}\n",
    "    for i, (query, query_result) in enumerate(zip(queries, task_results)):\n",
    "        results_dict[(query, i)] = query_result\n",
    "\n",
    "    return results_dict\n",
    "\n",
    "def fuse_results(results_dict, similarity_top_k: int = 2):\n",
    "    \"\"\"Fuse results.\"\"\"\n",
    "    k = 60.0  # `k` is a parameter used to control the impact of outlier rankings.\n",
    "    fused_scores = {}\n",
    "    text_to_node = {}\n",
    "\n",
    "    # compute reciprocal rank scores\n",
    "    for nodes_with_scores in results_dict.values():\n",
    "        for rank, node_with_score in enumerate(\n",
    "            sorted(\n",
    "                nodes_with_scores, key=lambda x: x.score or 0.0, reverse=True\n",
    "            )\n",
    "        ):\n",
    "            text = node_with_score.node.get_content()\n",
    "            text_to_node[text] = node_with_score\n",
    "            if text not in fused_scores:\n",
    "                fused_scores[text] = 0.0\n",
    "            fused_scores[text] += 1.0 / (rank + k)\n",
    "\n",
    "    # sort results\n",
    "    reranked_results = dict(\n",
    "        sorted(fused_scores.items(), key=lambda x: x[1], reverse=True)\n",
    "    )\n",
    "\n",
    "    # adjust node scores\n",
    "    reranked_nodes: List[NodeWithScore] = []\n",
    "    for text, score in reranked_results.items():\n",
    "        reranked_nodes.append(text_to_node[text])\n",
    "        reranked_nodes[-1].score = score\n",
    "\n",
    "    return reranked_nodes[:similarity_top_k]\n",
    "\n",
    "class FusionRetriever(BaseRetriever):\n",
    "    \"\"\"Ensemble retriever with fusion.\"\"\"\n",
    "\n",
    "    def __init__(\n",
    "        self,\n",
    "        llm,\n",
    "        retrievers: List[BaseRetriever],\n",
    "        similarity_top_k: int = 2,\n",
    "    ) -> None:\n",
    "        \"\"\"Init params.\"\"\"\n",
    "        self._retrievers = retrievers\n",
    "        self._similarity_top_k = similarity_top_k\n",
    "        self._llm = llm\n",
    "        super().__init__()\n",
    "\n",
    "    def _retrieve(self, query_bundle: QueryBundle) -> List[NodeWithScore]:\n",
    "        \"\"\"Retrieve.\"\"\"\n",
    "        queries = generate_queries(\n",
    "            self._llm, query_bundle.query_str, num_queries=3\n",
    "        )\n",
    "        results = asyncio.run(run_queries(queries, self._retrievers))\n",
    "        final_results = fuse_results(\n",
    "            results, similarity_top_k=self._similarity_top_k\n",
    "        )\n",
    "\n",
    "        return final_results"
   ]
  },
  {
   "cell_type": "code",
   "execution_count": 17,
   "metadata": {},
   "outputs": [],
   "source": [
    "import nest_asyncio\n",
    "nest_asyncio.apply()"
   ]
  },
  {
   "cell_type": "code",
   "execution_count": 18,
   "metadata": {},
   "outputs": [
    {
     "name": "stdout",
     "output_type": "stream",
     "text": [
      "Generated queries:\n",
      "1. \"5급 7급 공무원 특별승진 조건 우정직\"\n",
      "2. \"특별승진 공무원 규정 5급 7급\"\n",
      "3. \"우정직 공무원 특별승진 자격 요건\"\n"
     ]
    }
   ],
   "source": [
    "query = '5급 및 7급 공무원(우정직 포함)이 특별승진하려면 어떤 조건이 필요한가요?'\n",
    "queries = generate_queries(query=query,llm=llm_decomposer)"
   ]
  },
  {
   "cell_type": "code",
   "execution_count": 19,
   "metadata": {},
   "outputs": [],
   "source": [
    "result_dict = run_queries(queries, master_engine)"
   ]
  },
  {
   "cell_type": "code",
   "execution_count": 20,
   "metadata": {},
   "outputs": [
    {
     "data": {
      "text/plain": [
       "{('1. \"5급 7급 공무원 특별승진 조건 우정직\"',\n",
       "  0): Response(response='5급 및 7급 이하 공무원, 특히 우정직 공무원의 경우 특별승진임용을 받을 수 있는 조건은 다음과 같습니다. 해당 공무원은 승진소요최저연수에 도달해야 하며, 특별승진임용 시 승진후보자 명부의 순위에 관계없이 승진 심사를 거쳐 바로 상위 직급으로 승진임용될 수 있습니다. 우정직공무원의 경우에는 우정4급 이하 공무원이 해당됩니다.', source_nodes=[NodeWithScore(node=TextNode(id_='a4d3c0c8-2706-49c4-a943-7503ea399889', embedding=None, metadata={'page_label': '22', 'file_name': '공무원임용령(대통령령)(제34608호)(20240627).pdf', 'file_path': '/Users/doosolini/Downloads/streamlit_test/data/공무원임용령(대통령령)(제34608호)(20240627).pdf', 'file_type': 'application/pdf', 'file_size': 268393, 'creation_date': '2024-08-23', 'last_modified_date': '2024-08-23'}, excluded_embed_metadata_keys=['file_name', 'file_type', 'file_size', 'creation_date', 'last_modified_date', 'last_accessed_date'], excluded_llm_metadata_keys=['file_name', 'file_type', 'file_size', 'creation_date', 'last_modified_date', 'last_accessed_date'], relationships={}, text='법제처                                                            22                                                       국가법령정보센터\\n공무원임용령 \\n② 제1항에 따라 특별승진임용할 때에는 해당 공무원이 제32조에 따른 승진임용의 제한을 받지 않는 사람으로서\\n다음 각 호의 구분에 따른 요건을 갖추어야 한다.<개정 2019. 6. 25.>\\n1. 제1항제1호 및 제3호의 경우: 승진소요최저연수에 도달한 공무원일 것. 다만, 제1항제1호의 경우에는 승진소요최\\n저연수를 6개월 단축할 수 있다. \\n2. 제1항제4호의 경우: 재직기간 중 중징계 처분 또는 다음 각 목의 어느 하나에 해당하는 사유로 경징계 처분을 받\\n은 사실이 없으며, 명예퇴직일 전날까지 해당 계급에서 1년 이상 재직한 공무원일 것 \\n가. 「국가공무원법」 제78조의2제1항 각 호의 징계 사유 \\n나. 「성폭력범죄의 처벌 등에 관한 특례법」 제2조에 따른 성폭력범죄 \\n다. 「성매매알선 등 행위의 처벌에 관한 법률」 제2조제1항제1호에 따른 성매매 \\n라. 「양성평등기본법」 제3조제2호에 따른 성희롱 \\n마. 「도로교통법」 제44조제1항에 따른 음주운전 또는 같은 조 제2항에 따른 음주측정에 대한 불응 \\n③ 제1항제1호부터 제3호까지의 규정에 따라 특별승진임용을 할 때에는 5급 및 7급 이하 공무원(우정직공무원의\\n경우에는 우정4급 이하 공무원을 말한다)에 대해서는 승진후보자 명부의 순위에도 불구하고 승진 심사를 거쳐 바로\\n상위 직급으로 승진임용할 수 있으며, 6급(우정직공무원의 경우에는 우정3급을 말한다) 공무원에 대해서는 승진후\\n보자 명부의 순위에도 불구하고 승진 심사를 하거나 「공무원임용시험령」에서 정하는 바에 따라 일반승진시험에 우\\n선 응시하게 할 수 있다.<개정 2013. 11. 20.>\\n④ 제1항제4호 및 제5호에 따라 특별승진임용을 할 때에는 제33조ㆍ제34조ㆍ제34조의3 및 제35조에도 불구하고\\n승진임용할 수 있다. 이 경우 고위공무원단 직위로 특별승진임용할 때에는 「고위공무원단 인사규정」 제16조에도\\n불구하고 승진임용할 수 있다.\\n⑤ 제1항제2호나목에 해당하는 경우로서 인사혁신처장이 정하는 국무총리 표창 이상의 포상을 받은 4급 이하 공무\\n원을 특별승진임용할 때에는 계급별 또는 직급별 정원을 초과하여 임용할 수 있으며, 정원과 현원이 일치할 때까지\\n그 인원에 해당하는 정원이 해당 기관에 따로 있는 것으로 본다. 이 경우 특별승진임용의 절차 및 운영 등에 필요한\\n사항은 인사혁신처장이 정한다.<신설 2019. 11. 5.>\\n⑥ 제1항제4호에 따라 특별승진임용할 때에는 특별한 공적이 있는지에 대해 제34조의3에 따른 보통승진심사위원\\n회의 심사를 거쳐야 한다. 이 경우 심사의 방법 및 절차 등에 관한 사항은 인사혁신처장이 정한다.<신설 2019. 6.\\n25., 2019. 11. 5., 2023. 12. 26.>\\n⑦ 제1항제4호에 따라 특별승진임용된 사람이 법 제74조의2제3항제1호ㆍ제1호의2 또는 제1호의3에 해당하여 명\\n예퇴직수당을 환수하는 경우에는 특별승진임용을 취소해야 한다. 이 경우 특별승진임용이 취소된 사람은 그 특별승\\n진임용 전의 직급으로 퇴직한 것으로 본다.<신설 2019. 6. 25., 2019. 11. 5.>\\n[전문개정 2009. 9. 8.]\\n \\n제35조의3(대우공무원 및 필수 실무관의 선발ㆍ지정 등) ① 임용권자 또는 임용제청권자는 소속 일반직공무원 중 해당\\n계급에서 승진소요최저연수 이상 근무하고 승진임용의 제한 사유가 없으며 근무 실적이 우수한 사람을 바로 상위\\n직급의 대우공무원(이하 “대우공무원”이라 한다)으로 선발할 수 있다. <개정 2013. 11. 20.>\\n② 소속 장관은 6급(우정직공무원의 경우에는 우정3급을 말한다) 공무원인 대우공무원 중 해당 직급에서 계속하여\\n업무에 정려(精勵)하기를 희망하고 실무수행 능력이 우수하여 기관 운영에 특히 필요하다고 인정하는 사람을 필수\\n실무관으로 지정할 수 있다.<개정 2013. 11. 20.>\\n③ 제1항 및 제2항에 따른 대우공무원 및 필수 실무관의 선발ㆍ지정에 필요한 사항은 인사혁신처장이 정한다.<개\\n정 2013. 3. 23., 2014. 11. 19.>\\n④ 제1항 및 제2항에 따른 대우공무원 및 필수 실무관에게는 「공무원수당 등에 관한 규정」에서 정하는 바에 따라\\n수당을 지급할 수 있다.\\n[전문개정 2009. 9. 8.]\\n \\n제35조의4(근속승진 임용) ① 「행정기관의 조직과 정원에 관한 통칙」 제26조제2항에 따라 공무원의 정원을 통합ㆍ운\\n영하는 경우의 승진임용대상자는 제31조에 따른 승진소요최저연수를 경과해야 하고, 승진후보자명부에 올라 있어야', mimetype='text/plain', start_char_idx=None, end_char_idx=None, text_template='{metadata_str}\\n\\n{content}', metadata_template='{key}: {value}', metadata_seperator='\\n'), score=0.57175654)], metadata={'a4d3c0c8-2706-49c4-a943-7503ea399889': {'page_label': '22', 'file_name': '공무원임용령(대통령령)(제34608호)(20240627).pdf', 'file_path': '/Users/doosolini/Downloads/streamlit_test/data/공무원임용령(대통령령)(제34608호)(20240627).pdf', 'file_type': 'application/pdf', 'file_size': 268393, 'creation_date': '2024-08-23', 'last_modified_date': '2024-08-23'}, 'selector_result': MultiSelection(selections=[SingleSelection(index=5, reason='The question pertains to the conditions for special promotion of public officials, which is directly related to the hiring, appointment, promotion, and special promotion procedures.')])}),\n",
       " ('2. \"특별승진 공무원 규정 5급 7급\"',\n",
       "  1): Response(response='특별승진 공무원 규정에 따르면, 5급 및 7급 이하 공무원은 승진후보자 명부의 순위에 관계없이 승진 심사를 거쳐 바로 상위 직급으로 승진임용될 수 있습니다. 이는 특별승진임용의 일환으로, 특정 요건을 충족하는 공무원에게 적용됩니다.', source_nodes=[NodeWithScore(node=TextNode(id_='a4d3c0c8-2706-49c4-a943-7503ea399889', embedding=None, metadata={'page_label': '22', 'file_name': '공무원임용령(대통령령)(제34608호)(20240627).pdf', 'file_path': '/Users/doosolini/Downloads/streamlit_test/data/공무원임용령(대통령령)(제34608호)(20240627).pdf', 'file_type': 'application/pdf', 'file_size': 268393, 'creation_date': '2024-08-23', 'last_modified_date': '2024-08-23'}, excluded_embed_metadata_keys=['file_name', 'file_type', 'file_size', 'creation_date', 'last_modified_date', 'last_accessed_date'], excluded_llm_metadata_keys=['file_name', 'file_type', 'file_size', 'creation_date', 'last_modified_date', 'last_accessed_date'], relationships={}, text='법제처                                                            22                                                       국가법령정보센터\\n공무원임용령 \\n② 제1항에 따라 특별승진임용할 때에는 해당 공무원이 제32조에 따른 승진임용의 제한을 받지 않는 사람으로서\\n다음 각 호의 구분에 따른 요건을 갖추어야 한다.<개정 2019. 6. 25.>\\n1. 제1항제1호 및 제3호의 경우: 승진소요최저연수에 도달한 공무원일 것. 다만, 제1항제1호의 경우에는 승진소요최\\n저연수를 6개월 단축할 수 있다. \\n2. 제1항제4호의 경우: 재직기간 중 중징계 처분 또는 다음 각 목의 어느 하나에 해당하는 사유로 경징계 처분을 받\\n은 사실이 없으며, 명예퇴직일 전날까지 해당 계급에서 1년 이상 재직한 공무원일 것 \\n가. 「국가공무원법」 제78조의2제1항 각 호의 징계 사유 \\n나. 「성폭력범죄의 처벌 등에 관한 특례법」 제2조에 따른 성폭력범죄 \\n다. 「성매매알선 등 행위의 처벌에 관한 법률」 제2조제1항제1호에 따른 성매매 \\n라. 「양성평등기본법」 제3조제2호에 따른 성희롱 \\n마. 「도로교통법」 제44조제1항에 따른 음주운전 또는 같은 조 제2항에 따른 음주측정에 대한 불응 \\n③ 제1항제1호부터 제3호까지의 규정에 따라 특별승진임용을 할 때에는 5급 및 7급 이하 공무원(우정직공무원의\\n경우에는 우정4급 이하 공무원을 말한다)에 대해서는 승진후보자 명부의 순위에도 불구하고 승진 심사를 거쳐 바로\\n상위 직급으로 승진임용할 수 있으며, 6급(우정직공무원의 경우에는 우정3급을 말한다) 공무원에 대해서는 승진후\\n보자 명부의 순위에도 불구하고 승진 심사를 하거나 「공무원임용시험령」에서 정하는 바에 따라 일반승진시험에 우\\n선 응시하게 할 수 있다.<개정 2013. 11. 20.>\\n④ 제1항제4호 및 제5호에 따라 특별승진임용을 할 때에는 제33조ㆍ제34조ㆍ제34조의3 및 제35조에도 불구하고\\n승진임용할 수 있다. 이 경우 고위공무원단 직위로 특별승진임용할 때에는 「고위공무원단 인사규정」 제16조에도\\n불구하고 승진임용할 수 있다.\\n⑤ 제1항제2호나목에 해당하는 경우로서 인사혁신처장이 정하는 국무총리 표창 이상의 포상을 받은 4급 이하 공무\\n원을 특별승진임용할 때에는 계급별 또는 직급별 정원을 초과하여 임용할 수 있으며, 정원과 현원이 일치할 때까지\\n그 인원에 해당하는 정원이 해당 기관에 따로 있는 것으로 본다. 이 경우 특별승진임용의 절차 및 운영 등에 필요한\\n사항은 인사혁신처장이 정한다.<신설 2019. 11. 5.>\\n⑥ 제1항제4호에 따라 특별승진임용할 때에는 특별한 공적이 있는지에 대해 제34조의3에 따른 보통승진심사위원\\n회의 심사를 거쳐야 한다. 이 경우 심사의 방법 및 절차 등에 관한 사항은 인사혁신처장이 정한다.<신설 2019. 6.\\n25., 2019. 11. 5., 2023. 12. 26.>\\n⑦ 제1항제4호에 따라 특별승진임용된 사람이 법 제74조의2제3항제1호ㆍ제1호의2 또는 제1호의3에 해당하여 명\\n예퇴직수당을 환수하는 경우에는 특별승진임용을 취소해야 한다. 이 경우 특별승진임용이 취소된 사람은 그 특별승\\n진임용 전의 직급으로 퇴직한 것으로 본다.<신설 2019. 6. 25., 2019. 11. 5.>\\n[전문개정 2009. 9. 8.]\\n \\n제35조의3(대우공무원 및 필수 실무관의 선발ㆍ지정 등) ① 임용권자 또는 임용제청권자는 소속 일반직공무원 중 해당\\n계급에서 승진소요최저연수 이상 근무하고 승진임용의 제한 사유가 없으며 근무 실적이 우수한 사람을 바로 상위\\n직급의 대우공무원(이하 “대우공무원”이라 한다)으로 선발할 수 있다. <개정 2013. 11. 20.>\\n② 소속 장관은 6급(우정직공무원의 경우에는 우정3급을 말한다) 공무원인 대우공무원 중 해당 직급에서 계속하여\\n업무에 정려(精勵)하기를 희망하고 실무수행 능력이 우수하여 기관 운영에 특히 필요하다고 인정하는 사람을 필수\\n실무관으로 지정할 수 있다.<개정 2013. 11. 20.>\\n③ 제1항 및 제2항에 따른 대우공무원 및 필수 실무관의 선발ㆍ지정에 필요한 사항은 인사혁신처장이 정한다.<개\\n정 2013. 3. 23., 2014. 11. 19.>\\n④ 제1항 및 제2항에 따른 대우공무원 및 필수 실무관에게는 「공무원수당 등에 관한 규정」에서 정하는 바에 따라\\n수당을 지급할 수 있다.\\n[전문개정 2009. 9. 8.]\\n \\n제35조의4(근속승진 임용) ① 「행정기관의 조직과 정원에 관한 통칙」 제26조제2항에 따라 공무원의 정원을 통합ㆍ운\\n영하는 경우의 승진임용대상자는 제31조에 따른 승진소요최저연수를 경과해야 하고, 승진후보자명부에 올라 있어야', mimetype='text/plain', start_char_idx=None, end_char_idx=None, text_template='{metadata_str}\\n\\n{content}', metadata_template='{key}: {value}', metadata_seperator='\\n'), score=0.5573666)], metadata={'a4d3c0c8-2706-49c4-a943-7503ea399889': {'page_label': '22', 'file_name': '공무원임용령(대통령령)(제34608호)(20240627).pdf', 'file_path': '/Users/doosolini/Downloads/streamlit_test/data/공무원임용령(대통령령)(제34608호)(20240627).pdf', 'file_type': 'application/pdf', 'file_size': 268393, 'creation_date': '2024-08-23', 'last_modified_date': '2024-08-23'}, 'selector_result': MultiSelection(selections=[SingleSelection(index=5, reason='The question pertains to special promotions for civil servants, which relates to the hiring, appointment, promotion, and special promotion procedures.')])}),\n",
       " ('3. \"우정직 공무원 특별승진 자격 요건\"',\n",
       "  2): Response(response='우정직 공무원의 특별승진 자격 요건은 다음과 같습니다:\\n\\n1. 승진소요최저연수에 도달한 공무원이어야 하며, 특정 경우에는 승진소요최저연수를 6개월 단축할 수 있습니다.\\n2. 재직기간 중 중징계 처분이나 특정 사유로 경징계 처분을 받지 않아야 하며, 명예퇴직일 전날까지 해당 계급에서 1년 이상 재직해야 합니다.\\n3. 특별승진임용 시 승진후보자 명부의 순위에 관계없이 승진 심사를 거쳐 바로 상위 직급으로 승진임용될 수 있습니다. \\n\\n이 외에도 특별한 공적이 있는 경우에는 정원을 초과하여 임용할 수 있으며, 심사 절차는 인사혁신처장이 정합니다.', source_nodes=[NodeWithScore(node=TextNode(id_='a4d3c0c8-2706-49c4-a943-7503ea399889', embedding=None, metadata={'page_label': '22', 'file_name': '공무원임용령(대통령령)(제34608호)(20240627).pdf', 'file_path': '/Users/doosolini/Downloads/streamlit_test/data/공무원임용령(대통령령)(제34608호)(20240627).pdf', 'file_type': 'application/pdf', 'file_size': 268393, 'creation_date': '2024-08-23', 'last_modified_date': '2024-08-23'}, excluded_embed_metadata_keys=['file_name', 'file_type', 'file_size', 'creation_date', 'last_modified_date', 'last_accessed_date'], excluded_llm_metadata_keys=['file_name', 'file_type', 'file_size', 'creation_date', 'last_modified_date', 'last_accessed_date'], relationships={}, text='법제처                                                            22                                                       국가법령정보센터\\n공무원임용령 \\n② 제1항에 따라 특별승진임용할 때에는 해당 공무원이 제32조에 따른 승진임용의 제한을 받지 않는 사람으로서\\n다음 각 호의 구분에 따른 요건을 갖추어야 한다.<개정 2019. 6. 25.>\\n1. 제1항제1호 및 제3호의 경우: 승진소요최저연수에 도달한 공무원일 것. 다만, 제1항제1호의 경우에는 승진소요최\\n저연수를 6개월 단축할 수 있다. \\n2. 제1항제4호의 경우: 재직기간 중 중징계 처분 또는 다음 각 목의 어느 하나에 해당하는 사유로 경징계 처분을 받\\n은 사실이 없으며, 명예퇴직일 전날까지 해당 계급에서 1년 이상 재직한 공무원일 것 \\n가. 「국가공무원법」 제78조의2제1항 각 호의 징계 사유 \\n나. 「성폭력범죄의 처벌 등에 관한 특례법」 제2조에 따른 성폭력범죄 \\n다. 「성매매알선 등 행위의 처벌에 관한 법률」 제2조제1항제1호에 따른 성매매 \\n라. 「양성평등기본법」 제3조제2호에 따른 성희롱 \\n마. 「도로교통법」 제44조제1항에 따른 음주운전 또는 같은 조 제2항에 따른 음주측정에 대한 불응 \\n③ 제1항제1호부터 제3호까지의 규정에 따라 특별승진임용을 할 때에는 5급 및 7급 이하 공무원(우정직공무원의\\n경우에는 우정4급 이하 공무원을 말한다)에 대해서는 승진후보자 명부의 순위에도 불구하고 승진 심사를 거쳐 바로\\n상위 직급으로 승진임용할 수 있으며, 6급(우정직공무원의 경우에는 우정3급을 말한다) 공무원에 대해서는 승진후\\n보자 명부의 순위에도 불구하고 승진 심사를 하거나 「공무원임용시험령」에서 정하는 바에 따라 일반승진시험에 우\\n선 응시하게 할 수 있다.<개정 2013. 11. 20.>\\n④ 제1항제4호 및 제5호에 따라 특별승진임용을 할 때에는 제33조ㆍ제34조ㆍ제34조의3 및 제35조에도 불구하고\\n승진임용할 수 있다. 이 경우 고위공무원단 직위로 특별승진임용할 때에는 「고위공무원단 인사규정」 제16조에도\\n불구하고 승진임용할 수 있다.\\n⑤ 제1항제2호나목에 해당하는 경우로서 인사혁신처장이 정하는 국무총리 표창 이상의 포상을 받은 4급 이하 공무\\n원을 특별승진임용할 때에는 계급별 또는 직급별 정원을 초과하여 임용할 수 있으며, 정원과 현원이 일치할 때까지\\n그 인원에 해당하는 정원이 해당 기관에 따로 있는 것으로 본다. 이 경우 특별승진임용의 절차 및 운영 등에 필요한\\n사항은 인사혁신처장이 정한다.<신설 2019. 11. 5.>\\n⑥ 제1항제4호에 따라 특별승진임용할 때에는 특별한 공적이 있는지에 대해 제34조의3에 따른 보통승진심사위원\\n회의 심사를 거쳐야 한다. 이 경우 심사의 방법 및 절차 등에 관한 사항은 인사혁신처장이 정한다.<신설 2019. 6.\\n25., 2019. 11. 5., 2023. 12. 26.>\\n⑦ 제1항제4호에 따라 특별승진임용된 사람이 법 제74조의2제3항제1호ㆍ제1호의2 또는 제1호의3에 해당하여 명\\n예퇴직수당을 환수하는 경우에는 특별승진임용을 취소해야 한다. 이 경우 특별승진임용이 취소된 사람은 그 특별승\\n진임용 전의 직급으로 퇴직한 것으로 본다.<신설 2019. 6. 25., 2019. 11. 5.>\\n[전문개정 2009. 9. 8.]\\n \\n제35조의3(대우공무원 및 필수 실무관의 선발ㆍ지정 등) ① 임용권자 또는 임용제청권자는 소속 일반직공무원 중 해당\\n계급에서 승진소요최저연수 이상 근무하고 승진임용의 제한 사유가 없으며 근무 실적이 우수한 사람을 바로 상위\\n직급의 대우공무원(이하 “대우공무원”이라 한다)으로 선발할 수 있다. <개정 2013. 11. 20.>\\n② 소속 장관은 6급(우정직공무원의 경우에는 우정3급을 말한다) 공무원인 대우공무원 중 해당 직급에서 계속하여\\n업무에 정려(精勵)하기를 희망하고 실무수행 능력이 우수하여 기관 운영에 특히 필요하다고 인정하는 사람을 필수\\n실무관으로 지정할 수 있다.<개정 2013. 11. 20.>\\n③ 제1항 및 제2항에 따른 대우공무원 및 필수 실무관의 선발ㆍ지정에 필요한 사항은 인사혁신처장이 정한다.<개\\n정 2013. 3. 23., 2014. 11. 19.>\\n④ 제1항 및 제2항에 따른 대우공무원 및 필수 실무관에게는 「공무원수당 등에 관한 규정」에서 정하는 바에 따라\\n수당을 지급할 수 있다.\\n[전문개정 2009. 9. 8.]\\n \\n제35조의4(근속승진 임용) ① 「행정기관의 조직과 정원에 관한 통칙」 제26조제2항에 따라 공무원의 정원을 통합ㆍ운\\n영하는 경우의 승진임용대상자는 제31조에 따른 승진소요최저연수를 경과해야 하고, 승진후보자명부에 올라 있어야', mimetype='text/plain', start_char_idx=None, end_char_idx=None, text_template='{metadata_str}\\n\\n{content}', metadata_template='{key}: {value}', metadata_seperator='\\n'), score=0.6106367)], metadata={'a4d3c0c8-2706-49c4-a943-7503ea399889': {'page_label': '22', 'file_name': '공무원임용령(대통령령)(제34608호)(20240627).pdf', 'file_path': '/Users/doosolini/Downloads/streamlit_test/data/공무원임용령(대통령령)(제34608호)(20240627).pdf', 'file_type': 'application/pdf', 'file_size': 268393, 'creation_date': '2024-08-23', 'last_modified_date': '2024-08-23'}, 'selector_result': MultiSelection(selections=[SingleSelection(index=5, reason='The question pertains to the qualifications for special promotion of public officials, which is directly related to the hiring, appointment, promotion, and conditions of public officials.')])})}"
      ]
     },
     "execution_count": 20,
     "metadata": {},
     "output_type": "execute_result"
    }
   ],
   "source": [
    "result_dict"
   ]
  },
  {
   "cell_type": "code",
   "execution_count": 21,
   "metadata": {},
   "outputs": [],
   "source": [
    "inter_queries = []\n",
    "\n",
    "for k,v in result_dict.items():\n",
    "    inter_queries.append(v.response)"
   ]
  },
  {
   "cell_type": "code",
   "execution_count": 22,
   "metadata": {},
   "outputs": [
    {
     "data": {
      "text/plain": [
       "['5급 및 7급 이하 공무원, 특히 우정직 공무원의 경우 특별승진임용을 받을 수 있는 조건은 다음과 같습니다. 해당 공무원은 승진소요최저연수에 도달해야 하며, 특별승진임용 시 승진후보자 명부의 순위에 관계없이 승진 심사를 거쳐 바로 상위 직급으로 승진임용될 수 있습니다. 우정직공무원의 경우에는 우정4급 이하 공무원이 해당됩니다.',\n",
       " '특별승진 공무원 규정에 따르면, 5급 및 7급 이하 공무원은 승진후보자 명부의 순위에 관계없이 승진 심사를 거쳐 바로 상위 직급으로 승진임용될 수 있습니다. 이는 특별승진임용의 일환으로, 특정 요건을 충족하는 공무원에게 적용됩니다.',\n",
       " '우정직 공무원의 특별승진 자격 요건은 다음과 같습니다:\\n\\n1. 승진소요최저연수에 도달한 공무원이어야 하며, 특정 경우에는 승진소요최저연수를 6개월 단축할 수 있습니다.\\n2. 재직기간 중 중징계 처분이나 특정 사유로 경징계 처분을 받지 않아야 하며, 명예퇴직일 전날까지 해당 계급에서 1년 이상 재직해야 합니다.\\n3. 특별승진임용 시 승진후보자 명부의 순위에 관계없이 승진 심사를 거쳐 바로 상위 직급으로 승진임용될 수 있습니다. \\n\\n이 외에도 특별한 공적이 있는 경우에는 정원을 초과하여 임용할 수 있으며, 심사 절차는 인사혁신처장이 정합니다.']"
      ]
     },
     "execution_count": 22,
     "metadata": {},
     "output_type": "execute_result"
    }
   ],
   "source": [
    "inter_queries"
   ]
  },
  {
   "cell_type": "code",
   "execution_count": 23,
   "metadata": {},
   "outputs": [],
   "source": [
    "query_fuse_str = \"\"\"\n",
    "너는 공무원 관련 규정을 묻는 사용자에게 답을 해주는 봇이야.\n",
    "사용자의 질문에 답을 잘 해주기 위해, 미리 사용자의 질문을 분해해서 각각의 분해된 중간 답안을 도출해 놓은 상태야.\n",
    "사용자의 질문을 도출된 중간 답안들만을 이용해서 정확하고 구체적인 법적 규정이 포함되어 있는 최종 답변을 생성해.\n",
    "\n",
    "중간 답안1: {answer1}\n",
    "중간 답안2: {answer2}\n",
    "중간 답안3: {answer3}\n",
    "\n",
    "사용자 질문: {query}\n",
    "최종 답변:\n",
    "\"\"\"\n",
    "query_fuse_prompt = PromptTemplate(query_fuse_str)\n",
    "llm= OpenAI(model=\"gpt-4o-mini\",temperature=0)\n",
    "inter_queries = []\n",
    "\n",
    "for k,v in result_dict.items():\n",
    "    inter_queries.append(v.response)\n",
    "final_response = llm.predict(\n",
    "        query_fuse_prompt, answer1=inter_queries[0], answer2=inter_queries[1], answer3=inter_queries[2], query=query\n",
    "    )"
   ]
  },
  {
   "cell_type": "code",
   "execution_count": 24,
   "metadata": {},
   "outputs": [
    {
     "name": "stdout",
     "output_type": "stream",
     "text": [
      "('5급 및 7급 이하 공무원, 특히 우정직 공무원이 특별승진임용을 받기 위해서는 다음과 같은 조건을 충족해야 합니다:\\n'\n",
      " '\\n'\n",
      " '1. **승진소요최저연수 도달**: 해당 공무원은 승진소요최저연수에 도달해야 하며, 특정 경우에는 이 연수를 6개월 단축할 수 '\n",
      " '있습니다.\\n'\n",
      " '\\n'\n",
      " '2. **징계 처분 여부**: 재직기간 중 중징계 처분이나 특정 사유로 경징계 처분을 받지 않아야 하며, 명예퇴직일 전날까지 해당 '\n",
      " '계급에서 1년 이상 재직해야 합니다.\\n'\n",
      " '\\n'\n",
      " '3. **승진 심사**: 특별승진임용 시 승진후보자 명부의 순위에 관계없이 승진 심사를 거쳐 바로 상위 직급으로 승진임용될 수 '\n",
      " '있습니다.\\n'\n",
      " '\\n'\n",
      " '4. **특별한 공적**: 특별한 공적이 있는 경우에는 정원을 초과하여 임용할 수 있습니다.\\n'\n",
      " '\\n'\n",
      " '이러한 조건을 충족하는 경우, 우정직 공무원은 특별승진임용을 통해 상위 직급으로의 승진이 가능하게 됩니다. 심사 절차는 인사혁신처장이 '\n",
      " '정합니다.')\n"
     ]
    }
   ],
   "source": [
    "pprint(final_response)"
   ]
  },
  {
   "cell_type": "code",
   "execution_count": 25,
   "metadata": {},
   "outputs": [
    {
     "name": "stdout",
     "output_type": "stream",
     "text": [
      "Generated queries:\n",
      "1. \"고위공무원 보직 없이 근무 시 연봉 지급 규정\"\n",
      "2. \"고위공무원 연봉 산정 기준 및 보직 없는 경우\"\n",
      "3. \"공무원 보직 없는 근무 시 급여 지급 방식\"\n",
      "('고위공무원이 보직 없이 근무할 경우 연봉 지급 기준에 대한 구체적인 정보는 제공되지 않았습니다. 이러한 경우의 연봉 계산 기준이나 보직이 '\n",
      " '없는 상황에 대한 규정은 관련 법령이나 공식 문서를 참조하는 것이 좋습니다. 고위공무원의 보수 및 직무 배치에 관한 구체적인 지침을 '\n",
      " '확인하시기 바랍니다.')\n"
     ]
    }
   ],
   "source": [
    "query = '고위공무원에게 보직 없이 근무할 경우 연봉은 어떻게 지급되나요?'\n",
    "queries = generate_queries(query=query,llm=llm_decomposer)\n",
    "\n",
    "result_dict = run_queries(queries, master_engine)\n",
    "inter_queries = []\n",
    "\n",
    "for k,v in result_dict.items():\n",
    "    inter_queries.append(v.response)\n",
    "final_response = llm.predict(\n",
    "        query_fuse_prompt, answer1=inter_queries[0], answer2=inter_queries[1], answer3=inter_queries[2], query=query\n",
    "    )\n",
    "pprint(final_response)"
   ]
  }
 ],
 "metadata": {
  "kernelspec": {
   "display_name": "Python 3",
   "language": "python",
   "name": "python3"
  },
  "language_info": {
   "codemirror_mode": {
    "name": "ipython",
    "version": 3
   },
   "file_extension": ".py",
   "mimetype": "text/x-python",
   "name": "python",
   "nbconvert_exporter": "python",
   "pygments_lexer": "ipython3",
   "version": "3.9.6"
  }
 },
 "nbformat": 4,
 "nbformat_minor": 2
}
