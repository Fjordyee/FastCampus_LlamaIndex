{
 "cells": [
  {
   "cell_type": "code",
   "execution_count": null,
   "metadata": {},
   "outputs": [],
   "source": [
    "from gensim.models import Word2Vec\n",
    "import gensim.downloader as api\n",
    "import warnings\n",
    "warnings.filterwarnings('ignore')"
   ]
  },
  {
   "cell_type": "code",
   "execution_count": null,
   "metadata": {},
   "outputs": [],
   "source": [
    "# 데이터셋 로드\n",
    "dataset = api.load(\"text8\")"
   ]
  },
  {
   "cell_type": "code",
   "execution_count": null,
   "metadata": {},
   "outputs": [],
   "source": [
    "# 데이터셋 확인\n",
    "for i, doc in enumerate(dataset):\n",
    "    print(f\"Document {i+1}: {doc}...\")\n",
    "    if i == 1:\n",
    "        break"
   ]
  },
  {
   "cell_type": "code",
   "execution_count": null,
   "metadata": {},
   "outputs": [],
   "source": [
    "# 모델 학습\n",
    "model_text8 = Word2Vec(...)"
   ]
  },
  {
   "cell_type": "code",
   "execution_count": null,
   "metadata": {},
   "outputs": [],
   "source": [
    "# 학습모델 활용 예시\n",
    "example_word = \n",
    "print(f\"'{example_word}'의 단어 임베딩:\")\n",
    "print(model_text8.wv[example_word])"
   ]
  },
  {
   "cell_type": "code",
   "execution_count": null,
   "metadata": {},
   "outputs": [],
   "source": [
    "# 학습모델 활용 예시\n",
    "example_word = \n",
    "print(f\"'{example_word}'의 단어 임베딩:\")\n",
    "print(model_text8.wv[example_word])\n"
   ]
  },
  {
   "cell_type": "code",
   "execution_count": null,
   "metadata": {},
   "outputs": [],
   "source": [
    "# 단어 유사도 계산 확인\n",
    "word_examples = \n",
    "for word in word_examples:\n",
    "    print(f\"'{word}'와 비슷한 단어:\")\n",
    "    similar_words = \n",
    "    for similar_word, similarity in similar_words:\n",
    "        print(f\"  {similar_word} (유사도: {similarity:.4f})\")"
   ]
  },
  {
   "cell_type": "code",
   "execution_count": null,
   "metadata": {},
   "outputs": [],
   "source": [
    "# 단어 유사도 계산 확인\n",
    "word_examples = \n",
    "for word in word_examples:\n",
    "    print(f\"'{word}'와 비슷한 단어:\")\n",
    "    similar_words = \n",
    "    for similar_word, similarity in similar_words:\n",
    "        print(f\"  {similar_word} (유사도: {similarity:.4f})\")"
   ]
  },
  {
   "cell_type": "code",
   "execution_count": null,
   "metadata": {},
   "outputs": [],
   "source": [
    "# 단어 유사도 계산 확인\n",
    "word_examples = ['apple']\n",
    "for word in word_examples:\n",
    "    print(f\"'{word}'와 비슷한 단어:\")\n",
    "    similar_words = model_text8.wv.most_similar(word, topn=5)\n",
    "    for similar_word, similarity in similar_words:\n",
    "        print(f\"  {similar_word} (유사도: {similarity:.4f})\")"
   ]
  },
  {
   "cell_type": "code",
   "execution_count": null,
   "metadata": {},
   "outputs": [],
   "source": [
    "# 단어 유사도 계산 확인\n",
    "word_examples = \n",
    "for word in word_examples:\n",
    "    print(f\"'{word}'와 비슷한 단어:\")\n",
    "    similar_words = \n",
    "    for similar_word, similarity in similar_words:\n",
    "        print(f\"  {similar_word} (유사도: {similarity:.4f})\")"
   ]
  },
  {
   "cell_type": "code",
   "execution_count": null,
   "metadata": {},
   "outputs": [],
   "source": []
  }
 ],
 "metadata": {
  "kernelspec": {
   "display_name": ".venv",
   "language": "python",
   "name": "python3"
  },
  "language_info": {
   "codemirror_mode": {
    "name": "ipython",
    "version": 3
   },
   "file_extension": ".py",
   "mimetype": "text/x-python",
   "name": "python",
   "nbconvert_exporter": "python",
   "pygments_lexer": "ipython3",
   "version": "3.9.6"
  }
 },
 "nbformat": 4,
 "nbformat_minor": 2
}
