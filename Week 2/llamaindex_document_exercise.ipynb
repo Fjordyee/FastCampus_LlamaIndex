{
 "cells": [
  {
   "cell_type": "markdown",
   "metadata": {},
   "source": [
    "# 1. Custom한 데이터셋 직접 document화 시키기"
   ]
  },
  {
   "cell_type": "code",
   "execution_count": null,
   "metadata": {},
   "outputs": [],
   "source": [
    "# Manual하게 Document 오브젝트 생성하기\n",
    "from llama_index.core import Document, VectorStoreIndex\n",
    "from llama_index.llms.openai import OpenAI\n",
    "from llama_index.embeddings.openai import OpenAIEmbedding\n",
    "from llama_index.core import Settings\n",
    "import os\n",
    "os.environ[\"OPENAI_API_KEY\"] = \"<본인 API 키>\"\n",
    "\n",
    "Settings.embed_model = OpenAIEmbedding(\n",
    "    model=\"text-embedding-3-small\"\n",
    ")\n",
    "text_list = []\n",
    "documents = []\n"
   ]
  },
  {
   "cell_type": "code",
   "execution_count": null,
   "metadata": {},
   "outputs": [],
   "source": [
    "# 생성된 다큐먼트 확인\n",
    "documents"
   ]
  },
  {
   "cell_type": "markdown",
   "metadata": {},
   "source": [
    "# 2. Llamahub 데이터셋 이용하여 Document 만들기"
   ]
  },
  {
   "cell_type": "code",
   "execution_count": null,
   "metadata": {},
   "outputs": [],
   "source": [
    "#2-1. llama_dataset 제공 함수 download_llama_dataset 이용하기 : https://llamahub.ai/l/llama_datasets/Mini%20Covid%20QA%20Dataset?from=llama_datasets\n",
    "\n",
    "from llama_index.core.llama_dataset import download_llama_dataset\n",
    "from llama_index.core import VectorStoreIndex\n",
    "\n",
    "rag_dataset, documents = download_llama_dataset(,)\n"
   ]
  },
  {
   "cell_type": "code",
   "execution_count": null,
   "metadata": {},
   "outputs": [],
   "source": [
    "# 확인 \n",
    "documents"
   ]
  },
  {
   "cell_type": "markdown",
   "metadata": {},
   "source": [
    "# 2-2. SimpleDirectory Reader\n",
    "라마인덱스에서 자체 제공하는 올인원 리더! 정교하진 않으나 언제나 첫번째 초이스\n",
    "\n",
    "- csv - comma-separated values\n",
    "- docx - Microsoft Word\n",
    "- epub - EPUB ebook format\n",
    "- hwp - Hangul Word Processor\n",
    "- ipynb - Jupyter Notebook\n",
    "- jpeg, .jpg - JPEG image\n",
    "- mbox - MBOX email archive\n",
    "- md - Markdown\n",
    "- mp3, .mp4 - audio and video\n",
    "- pdf - Portable Document Format\n",
    "- png - Portable Network Graphics\n",
    "- ppt, .pptm, .pptx - Microsoft PowerPoint"
   ]
  },
  {
   "cell_type": "code",
   "execution_count": null,
   "metadata": {},
   "outputs": [],
   "source": [
    "#2-2. cli로 다운로드 받아서 path기준 document화 시키기(SimpleDirectoryReader)\n",
    "#command: llamaindex-cli download-llamadataset MiniCovidQaDataset --download-dir ./data_manual\n",
    "from llama_index.core import SimpleDirectoryReader\n",
    "\n",
    "documents = "
   ]
  },
  {
   "cell_type": "code",
   "execution_count": null,
   "metadata": {},
   "outputs": [],
   "source": [
    "# 확인\n",
    "documents"
   ]
  },
  {
   "cell_type": "markdown",
   "metadata": {},
   "source": [
    "# Document를 Node로 변환시키기"
   ]
  },
  {
   "cell_type": "code",
   "execution_count": null,
   "metadata": {},
   "outputs": [],
   "source": [
    "from llama_index.core.node_parser import SentenceSplitter\n",
    "\n",
    "# 파서 정의\n",
    "parser = \n",
    "\n",
    "# 파서 이용하여 도큐먼트를 노드 오브젝트로 나눔\n",
    "nodes = "
   ]
  },
  {
   "cell_type": "code",
   "execution_count": null,
   "metadata": {},
   "outputs": [],
   "source": [
    "# 확인\n",
    "nodes"
   ]
  },
  {
   "cell_type": "code",
   "execution_count": null,
   "metadata": {},
   "outputs": [],
   "source": [
    "# 차원수 확인\n"
   ]
  },
  {
   "cell_type": "code",
   "execution_count": null,
   "metadata": {},
   "outputs": [],
   "source": [
    "# 노드 사이즈 조절\n",
    "parser_2 = \n",
    "nodes_2 = parser_2.get_nodes_from_documents(documents)"
   ]
  },
  {
   "cell_type": "code",
   "execution_count": null,
   "metadata": {},
   "outputs": [],
   "source": [
    "# 차원수 확인"
   ]
  },
  {
   "cell_type": "code",
   "execution_count": null,
   "metadata": {},
   "outputs": [],
   "source": [
    "# 노드 사이즈 조절\n",
    "parser_3 = \n",
    "nodes_3 = parser_3.get_nodes_from_documents(documents)"
   ]
  },
  {
   "cell_type": "code",
   "execution_count": null,
   "metadata": {},
   "outputs": [],
   "source": [
    "# 차원수 확인"
   ]
  },
  {
   "cell_type": "code",
   "execution_count": null,
   "metadata": {},
   "outputs": [],
   "source": [
    "# 노드별 메타값 확인 법\n"
   ]
  },
  {
   "cell_type": "markdown",
   "metadata": {},
   "source": [
    "# Huggingface Dataset -> Dataframe -> Document 화 시켜보기"
   ]
  },
  {
   "cell_type": "code",
   "execution_count": null,
   "metadata": {},
   "outputs": [],
   "source": [
    "from datasets import load_dataset\n",
    "\n",
    "ds = load_dataset(\"lcw99/wikipedia-korean-20240501\", split='train[-10:]')\n"
   ]
  },
  {
   "cell_type": "code",
   "execution_count": null,
   "metadata": {},
   "outputs": [],
   "source": [
    "# 피쳐 확인\n",
    "ds"
   ]
  },
  {
   "cell_type": "code",
   "execution_count": null,
   "metadata": {},
   "outputs": [],
   "source": [
    "\n",
    "# 기준 데이터셋 전처리\n",
    "data = \n",
    "data.head()\n",
    "\n"
   ]
  },
  {
   "cell_type": "code",
   "execution_count": null,
   "metadata": {},
   "outputs": [],
   "source": [
    "docs = []\n",
    "\n",
    "# iterative하게 row by row로 document객체 생성\n",
    "for i, row in data.iterrows():\n",
    "    docs.append(Document(\n",
    "        text=,\n",
    "        extra_info={}\n",
    "    ))\n"
   ]
  },
  {
   "cell_type": "code",
   "execution_count": null,
   "metadata": {},
   "outputs": [],
   "source": [
    "# 최종 확인\n",
    "docs"
   ]
  }
 ],
 "metadata": {
  "kernelspec": {
   "display_name": ".venv",
   "language": "python",
   "name": "python3"
  },
  "language_info": {
   "codemirror_mode": {
    "name": "ipython",
    "version": 3
   },
   "file_extension": ".py",
   "mimetype": "text/x-python",
   "name": "python",
   "nbconvert_exporter": "python",
   "pygments_lexer": "ipython3",
   "version": "3.9.6"
  }
 },
 "nbformat": 4,
 "nbformat_minor": 2
}
