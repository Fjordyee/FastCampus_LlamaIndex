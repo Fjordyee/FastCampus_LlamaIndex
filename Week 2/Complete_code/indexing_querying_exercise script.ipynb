{
 "cells": [
  {
   "cell_type": "code",
   "execution_count": 1,
   "metadata": {},
   "outputs": [],
   "source": [
    "# API 키 설정\n",
    "import os\n",
    "os.environ[\"OPENAI_API_KEY\"] = \"\""
   ]
  },
  {
   "cell_type": "code",
   "execution_count": 2,
   "metadata": {},
   "outputs": [
    {
     "name": "stderr",
     "output_type": "stream",
     "text": [
      "/Users/doosolini/Desktop/FC_Lecture/.venv/lib/python3.9/site-packages/urllib3/__init__.py:35: NotOpenSSLWarning: urllib3 v2 only supports OpenSSL 1.1.1+, currently the 'ssl' module is compiled with 'LibreSSL 2.8.3'. See: https://github.com/urllib3/urllib3/issues/3020\n",
      "  warnings.warn(\n",
      "/Users/doosolini/Desktop/FC_Lecture/.venv/lib/python3.9/site-packages/tqdm/auto.py:21: TqdmWarning: IProgress not found. Please update jupyter and ipywidgets. See https://ipywidgets.readthedocs.io/en/stable/user_install.html\n",
      "  from .autonotebook import tqdm as notebook_tqdm\n"
     ]
    }
   ],
   "source": [
    "# 한글 위키피디아 허깅페이스 데이터 로드\n",
    "from datasets import load_dataset\n",
    "ds = load_dataset(\"lcw99/wikipedia-korean-20221001\", split='train[-20:]')"
   ]
  },
  {
   "cell_type": "code",
   "execution_count": 3,
   "metadata": {},
   "outputs": [
    {
     "data": {
      "text/plain": [
       "Dataset({\n",
       "    features: ['id', 'url', 'title', 'text'],\n",
       "    num_rows: 20\n",
       "})"
      ]
     },
     "execution_count": 3,
     "metadata": {},
     "output_type": "execute_result"
    }
   ],
   "source": [
    "# 데이터셋 메타 확인\n",
    "ds"
   ]
  },
  {
   "cell_type": "code",
   "execution_count": 4,
   "metadata": {},
   "outputs": [
    {
     "data": {
      "text/html": [
       "<div>\n",
       "<style scoped>\n",
       "    .dataframe tbody tr th:only-of-type {\n",
       "        vertical-align: middle;\n",
       "    }\n",
       "\n",
       "    .dataframe tbody tr th {\n",
       "        vertical-align: top;\n",
       "    }\n",
       "\n",
       "    .dataframe thead th {\n",
       "        text-align: right;\n",
       "    }\n",
       "</style>\n",
       "<table border=\"1\" class=\"dataframe\">\n",
       "  <thead>\n",
       "    <tr style=\"text-align: right;\">\n",
       "      <th></th>\n",
       "      <th>id</th>\n",
       "      <th>text</th>\n",
       "      <th>title</th>\n",
       "    </tr>\n",
       "  </thead>\n",
       "  <tbody>\n",
       "    <tr>\n",
       "      <th>0</th>\n",
       "      <td>3291900</td>\n",
       "      <td>CRUX는 숙련된 리눅스 사용자들을 대상으로 하는 경량의 x86-64에 최적화된 리...</td>\n",
       "      <td>CRUX</td>\n",
       "    </tr>\n",
       "    <tr>\n",
       "      <th>1</th>\n",
       "      <td>3291901</td>\n",
       "      <td>다쓰에정(立江町)은 도쿠시마현 나카군에 설치된 정이다. \\n\\n도쿠시마현의 폐지된 ...</td>\n",
       "      <td>다쓰에정</td>\n",
       "    </tr>\n",
       "    <tr>\n",
       "      <th>2</th>\n",
       "      <td>3291902</td>\n",
       "      <td>다카라다촌(宝田村)은 도쿠시마현 나카군에 설치된 촌이다. \\n\\n도쿠시마현의 폐지된...</td>\n",
       "      <td>다카라다촌 (도쿠시마현)</td>\n",
       "    </tr>\n",
       "    <tr>\n",
       "      <th>3</th>\n",
       "      <td>3291903</td>\n",
       "      <td>나가이케촌(長生村)은 도쿠시마현 나카군에 설치된 촌이다. \\n\\n도쿠시마현의 폐지된...</td>\n",
       "      <td>나가이케촌 (도쿠시마현)</td>\n",
       "    </tr>\n",
       "    <tr>\n",
       "      <th>4</th>\n",
       "      <td>3291904</td>\n",
       "      <td>오노촌(大野村)은 도쿠시마현 나카군에 설치된 촌이다. \\n\\n도쿠시마현의 폐지된 시...</td>\n",
       "      <td>오노촌 (도쿠시마현)</td>\n",
       "    </tr>\n",
       "  </tbody>\n",
       "</table>\n",
       "</div>"
      ],
      "text/plain": [
       "        id                                               text          title\n",
       "0  3291900  CRUX는 숙련된 리눅스 사용자들을 대상으로 하는 경량의 x86-64에 최적화된 리...           CRUX\n",
       "1  3291901  다쓰에정(立江町)은 도쿠시마현 나카군에 설치된 정이다. \\n\\n도쿠시마현의 폐지된 ...           다쓰에정\n",
       "2  3291902  다카라다촌(宝田村)은 도쿠시마현 나카군에 설치된 촌이다. \\n\\n도쿠시마현의 폐지된...  다카라다촌 (도쿠시마현)\n",
       "3  3291903  나가이케촌(長生村)은 도쿠시마현 나카군에 설치된 촌이다. \\n\\n도쿠시마현의 폐지된...  나가이케촌 (도쿠시마현)\n",
       "4  3291904  오노촌(大野村)은 도쿠시마현 나카군에 설치된 촌이다. \\n\\n도쿠시마현의 폐지된 시...    오노촌 (도쿠시마현)"
      ]
     },
     "execution_count": 4,
     "metadata": {},
     "output_type": "execute_result"
    }
   ],
   "source": [
    "# \n",
    "data = ds.to_pandas()[['id', 'text', 'title']]\n",
    "data.head()"
   ]
  },
  {
   "cell_type": "code",
   "execution_count": 5,
   "metadata": {},
   "outputs": [],
   "source": [
    "from openai import OpenAI\n",
    "client = OpenAI()\n",
    "\n",
    "def get_embedding(text, model=\"text-embedding-3-small\"):\n",
    "   text = text.replace(\"\\n\", \" \")\n",
    "   return client.embeddings.create(input = [text], model=model).data[0].embedding\n",
    "\n",
    "data['embedding'] = data['text'].apply(lambda x: get_embedding(x, model='text-embedding-3-small'))"
   ]
  },
  {
   "cell_type": "code",
   "execution_count": 6,
   "metadata": {},
   "outputs": [
    {
     "data": {
      "text/html": [
       "<div>\n",
       "<style scoped>\n",
       "    .dataframe tbody tr th:only-of-type {\n",
       "        vertical-align: middle;\n",
       "    }\n",
       "\n",
       "    .dataframe tbody tr th {\n",
       "        vertical-align: top;\n",
       "    }\n",
       "\n",
       "    .dataframe thead th {\n",
       "        text-align: right;\n",
       "    }\n",
       "</style>\n",
       "<table border=\"1\" class=\"dataframe\">\n",
       "  <thead>\n",
       "    <tr style=\"text-align: right;\">\n",
       "      <th></th>\n",
       "      <th>id</th>\n",
       "      <th>text</th>\n",
       "      <th>title</th>\n",
       "      <th>embedding</th>\n",
       "    </tr>\n",
       "  </thead>\n",
       "  <tbody>\n",
       "    <tr>\n",
       "      <th>0</th>\n",
       "      <td>3291900</td>\n",
       "      <td>CRUX는 숙련된 리눅스 사용자들을 대상으로 하는 경량의 x86-64에 최적화된 리...</td>\n",
       "      <td>CRUX</td>\n",
       "      <td>[-0.043367378413677216, 0.05967704579234123, 0...</td>\n",
       "    </tr>\n",
       "    <tr>\n",
       "      <th>1</th>\n",
       "      <td>3291901</td>\n",
       "      <td>다쓰에정(立江町)은 도쿠시마현 나카군에 설치된 정이다. \\n\\n도쿠시마현의 폐지된 ...</td>\n",
       "      <td>다쓰에정</td>\n",
       "      <td>[-0.010071391239762306, -0.03209898993372917, ...</td>\n",
       "    </tr>\n",
       "    <tr>\n",
       "      <th>2</th>\n",
       "      <td>3291902</td>\n",
       "      <td>다카라다촌(宝田村)은 도쿠시마현 나카군에 설치된 촌이다. \\n\\n도쿠시마현의 폐지된...</td>\n",
       "      <td>다카라다촌 (도쿠시마현)</td>\n",
       "      <td>[0.0006068224320188165, -0.0265494454652071, 0...</td>\n",
       "    </tr>\n",
       "    <tr>\n",
       "      <th>3</th>\n",
       "      <td>3291903</td>\n",
       "      <td>나가이케촌(長生村)은 도쿠시마현 나카군에 설치된 촌이다. \\n\\n도쿠시마현의 폐지된...</td>\n",
       "      <td>나가이케촌 (도쿠시마현)</td>\n",
       "      <td>[0.023972829803824425, -0.006797664798796177, ...</td>\n",
       "    </tr>\n",
       "    <tr>\n",
       "      <th>4</th>\n",
       "      <td>3291904</td>\n",
       "      <td>오노촌(大野村)은 도쿠시마현 나카군에 설치된 촌이다. \\n\\n도쿠시마현의 폐지된 시...</td>\n",
       "      <td>오노촌 (도쿠시마현)</td>\n",
       "      <td>[0.016055993735790253, -0.013276520185172558, ...</td>\n",
       "    </tr>\n",
       "    <tr>\n",
       "      <th>5</th>\n",
       "      <td>3291905</td>\n",
       "      <td>울프럼 리서치(Wolfram Research)는 연산 기술을 개발하는 미국의 다국적...</td>\n",
       "      <td>울프럼 리서치</td>\n",
       "      <td>[-0.036400407552719116, -0.016310442239046097,...</td>\n",
       "    </tr>\n",
       "    <tr>\n",
       "      <th>6</th>\n",
       "      <td>3291908</td>\n",
       "      <td>와이어스(Wyeth)는 미국의 제약 회사이다. 이 기업은 1860년 펜실베이니아주 ...</td>\n",
       "      <td>와이어스</td>\n",
       "      <td>[0.003992738202214241, -0.007662554271519184, ...</td>\n",
       "    </tr>\n",
       "    <tr>\n",
       "      <th>7</th>\n",
       "      <td>3291911</td>\n",
       "      <td>야시 라지 필름스(Yash Raj Films, YRF)는 인도의 영화 제작 및 배급...</td>\n",
       "      <td>야시 라지 필름스</td>\n",
       "      <td>[-0.027020961046218872, 0.04465223848819733, 0...</td>\n",
       "    </tr>\n",
       "    <tr>\n",
       "      <th>8</th>\n",
       "      <td>3291912</td>\n",
       "      <td>가모다니촌(加茂谷村)은 도쿠시마현 나카군에 설치된 촌이다. \\n\\n도쿠시마현의 폐지...</td>\n",
       "      <td>가모다니촌</td>\n",
       "      <td>[0.023742390796542168, 0.015125046484172344, 0...</td>\n",
       "    </tr>\n",
       "    <tr>\n",
       "      <th>9</th>\n",
       "      <td>3291925</td>\n",
       "      <td>《Ornette!》은 1962년 2월 애틀랜틱 레코드에서 발매된 미국의 알토 색소폰...</td>\n",
       "      <td>Ornette!</td>\n",
       "      <td>[0.01614939421415329, 8.841833914630115e-05, -...</td>\n",
       "    </tr>\n",
       "    <tr>\n",
       "      <th>10</th>\n",
       "      <td>3291927</td>\n",
       "      <td>잘란도(Zalando)는 독일의 신발, 패션, 뷰티 부문의 온라인 소매 기업이다. ...</td>\n",
       "      <td>잘란도</td>\n",
       "      <td>[0.04567074030637741, 0.03487435728311539, -0....</td>\n",
       "    </tr>\n",
       "    <tr>\n",
       "      <th>11</th>\n",
       "      <td>3291932</td>\n",
       "      <td>미노바야시촌(見能林村)은 도쿠시마현 나카군에 설치된 촌이다. \\n\\n도쿠시마현의 폐...</td>\n",
       "      <td>미노바야시촌 (도쿠시마현)</td>\n",
       "      <td>[-0.0024385261349380016, -0.018968382850289345...</td>\n",
       "    </tr>\n",
       "    <tr>\n",
       "      <th>12</th>\n",
       "      <td>3291933</td>\n",
       "      <td>아라타노촌(新野町)은 도쿠시마현 나카군에 설치된 촌이다. \\n\\n도쿠시마현의 폐지된...</td>\n",
       "      <td>아라타노촌 (도쿠시마현)</td>\n",
       "      <td>[-0.009305750951170921, -0.03349703177809715, ...</td>\n",
       "    </tr>\n",
       "    <tr>\n",
       "      <th>13</th>\n",
       "      <td>3291934</td>\n",
       "      <td>바스타 신주쿠() 또는 신주쿠 미나미구치 교통 터미널()은 도쿄도 시부야구 신주쿠역...</td>\n",
       "      <td>바스타 신주쿠</td>\n",
       "      <td>[-0.05100138485431671, -0.042752787470817566, ...</td>\n",
       "    </tr>\n",
       "    <tr>\n",
       "      <th>14</th>\n",
       "      <td>3291935</td>\n",
       "      <td>후쿠이촌(福井村)은 도쿠시마현 나카군에 설치된 촌이다. \\n\\n도쿠시마현의 폐지된 ...</td>\n",
       "      <td>후쿠이촌 (도쿠시마현)</td>\n",
       "      <td>[-0.048117030411958694, -0.01941659487783909, ...</td>\n",
       "    </tr>\n",
       "    <tr>\n",
       "      <th>15</th>\n",
       "      <td>3291937</td>\n",
       "      <td>웹민(Webmin)은 유닉스 계열 시스템을 위한 강력하고 유연한 웹 기반 서버 관리...</td>\n",
       "      <td>웹민</td>\n",
       "      <td>[-0.0866929218173027, 0.049990806728601456, -0...</td>\n",
       "    </tr>\n",
       "    <tr>\n",
       "      <th>16</th>\n",
       "      <td>3291941</td>\n",
       "      <td>사카슈촌(坂州村)은 도쿠시마현 나카군에 설치된 촌이다. \\n\\n도쿠시마현의 폐지된 ...</td>\n",
       "      <td>사카슈촌</td>\n",
       "      <td>[0.009400241076946259, -0.022367848083376884, ...</td>\n",
       "    </tr>\n",
       "    <tr>\n",
       "      <th>17</th>\n",
       "      <td>3291942</td>\n",
       "      <td>Zope은 파이썬으로 작성된 자유-오픈 소스 웹 애플리케이션 서버이자 관련 온라인 ...</td>\n",
       "      <td>Zope</td>\n",
       "      <td>[0.005262866150587797, 0.040248267352581024, -...</td>\n",
       "    </tr>\n",
       "    <tr>\n",
       "      <th>18</th>\n",
       "      <td>3291943</td>\n",
       "      <td>레이시 내친왕 (, 분에이 7년 9월 19일 (1270년 10월 5일) - 도쿠지 ...</td>\n",
       "      <td>레이시 내친왕 (1270년)</td>\n",
       "      <td>[0.018691373988986015, 0.020827529951930046, -...</td>\n",
       "    </tr>\n",
       "    <tr>\n",
       "      <th>19</th>\n",
       "      <td>3291948</td>\n",
       "      <td>넘겨주기 츠치커우역</td>\n",
       "      <td>츠치커우역 (동음이의)</td>\n",
       "      <td>[-0.013779325410723686, -0.03555090352892876, ...</td>\n",
       "    </tr>\n",
       "  </tbody>\n",
       "</table>\n",
       "</div>"
      ],
      "text/plain": [
       "         id                                               text  \\\n",
       "0   3291900  CRUX는 숙련된 리눅스 사용자들을 대상으로 하는 경량의 x86-64에 최적화된 리...   \n",
       "1   3291901  다쓰에정(立江町)은 도쿠시마현 나카군에 설치된 정이다. \\n\\n도쿠시마현의 폐지된 ...   \n",
       "2   3291902  다카라다촌(宝田村)은 도쿠시마현 나카군에 설치된 촌이다. \\n\\n도쿠시마현의 폐지된...   \n",
       "3   3291903  나가이케촌(長生村)은 도쿠시마현 나카군에 설치된 촌이다. \\n\\n도쿠시마현의 폐지된...   \n",
       "4   3291904  오노촌(大野村)은 도쿠시마현 나카군에 설치된 촌이다. \\n\\n도쿠시마현의 폐지된 시...   \n",
       "5   3291905  울프럼 리서치(Wolfram Research)는 연산 기술을 개발하는 미국의 다국적...   \n",
       "6   3291908  와이어스(Wyeth)는 미국의 제약 회사이다. 이 기업은 1860년 펜실베이니아주 ...   \n",
       "7   3291911  야시 라지 필름스(Yash Raj Films, YRF)는 인도의 영화 제작 및 배급...   \n",
       "8   3291912  가모다니촌(加茂谷村)은 도쿠시마현 나카군에 설치된 촌이다. \\n\\n도쿠시마현의 폐지...   \n",
       "9   3291925  《Ornette!》은 1962년 2월 애틀랜틱 레코드에서 발매된 미국의 알토 색소폰...   \n",
       "10  3291927  잘란도(Zalando)는 독일의 신발, 패션, 뷰티 부문의 온라인 소매 기업이다. ...   \n",
       "11  3291932  미노바야시촌(見能林村)은 도쿠시마현 나카군에 설치된 촌이다. \\n\\n도쿠시마현의 폐...   \n",
       "12  3291933  아라타노촌(新野町)은 도쿠시마현 나카군에 설치된 촌이다. \\n\\n도쿠시마현의 폐지된...   \n",
       "13  3291934  바스타 신주쿠() 또는 신주쿠 미나미구치 교통 터미널()은 도쿄도 시부야구 신주쿠역...   \n",
       "14  3291935  후쿠이촌(福井村)은 도쿠시마현 나카군에 설치된 촌이다. \\n\\n도쿠시마현의 폐지된 ...   \n",
       "15  3291937  웹민(Webmin)은 유닉스 계열 시스템을 위한 강력하고 유연한 웹 기반 서버 관리...   \n",
       "16  3291941  사카슈촌(坂州村)은 도쿠시마현 나카군에 설치된 촌이다. \\n\\n도쿠시마현의 폐지된 ...   \n",
       "17  3291942  Zope은 파이썬으로 작성된 자유-오픈 소스 웹 애플리케이션 서버이자 관련 온라인 ...   \n",
       "18  3291943  레이시 내친왕 (, 분에이 7년 9월 19일 (1270년 10월 5일) - 도쿠지 ...   \n",
       "19  3291948                                         넘겨주기 츠치커우역   \n",
       "\n",
       "              title                                          embedding  \n",
       "0              CRUX  [-0.043367378413677216, 0.05967704579234123, 0...  \n",
       "1              다쓰에정  [-0.010071391239762306, -0.03209898993372917, ...  \n",
       "2     다카라다촌 (도쿠시마현)  [0.0006068224320188165, -0.0265494454652071, 0...  \n",
       "3     나가이케촌 (도쿠시마현)  [0.023972829803824425, -0.006797664798796177, ...  \n",
       "4       오노촌 (도쿠시마현)  [0.016055993735790253, -0.013276520185172558, ...  \n",
       "5           울프럼 리서치  [-0.036400407552719116, -0.016310442239046097,...  \n",
       "6              와이어스  [0.003992738202214241, -0.007662554271519184, ...  \n",
       "7         야시 라지 필름스  [-0.027020961046218872, 0.04465223848819733, 0...  \n",
       "8             가모다니촌  [0.023742390796542168, 0.015125046484172344, 0...  \n",
       "9          Ornette!  [0.01614939421415329, 8.841833914630115e-05, -...  \n",
       "10              잘란도  [0.04567074030637741, 0.03487435728311539, -0....  \n",
       "11   미노바야시촌 (도쿠시마현)  [-0.0024385261349380016, -0.018968382850289345...  \n",
       "12    아라타노촌 (도쿠시마현)  [-0.009305750951170921, -0.03349703177809715, ...  \n",
       "13          바스타 신주쿠  [-0.05100138485431671, -0.042752787470817566, ...  \n",
       "14     후쿠이촌 (도쿠시마현)  [-0.048117030411958694, -0.01941659487783909, ...  \n",
       "15               웹민  [-0.0866929218173027, 0.049990806728601456, -0...  \n",
       "16             사카슈촌  [0.009400241076946259, -0.022367848083376884, ...  \n",
       "17             Zope  [0.005262866150587797, 0.040248267352581024, -...  \n",
       "18  레이시 내친왕 (1270년)  [0.018691373988986015, 0.020827529951930046, -...  \n",
       "19     츠치커우역 (동음이의)  [-0.013779325410723686, -0.03555090352892876, ...  "
      ]
     },
     "execution_count": 6,
     "metadata": {},
     "output_type": "execute_result"
    }
   ],
   "source": [
    "data"
   ]
  },
  {
   "cell_type": "code",
   "execution_count": 7,
   "metadata": {},
   "outputs": [
    {
     "data": {
      "text/plain": [
       "1536"
      ]
     },
     "execution_count": 7,
     "metadata": {},
     "output_type": "execute_result"
    }
   ],
   "source": [
    "len(data['embedding'][0])"
   ]
  },
  {
   "cell_type": "code",
   "execution_count": 8,
   "metadata": {},
   "outputs": [
    {
     "name": "stdout",
     "output_type": "stream",
     "text": [
      "collections=[]\n"
     ]
    }
   ],
   "source": [
    "# Qdrant 클라이은트 설정\n",
    "from qdrant_client import QdrantClient, models\n",
    "\n",
    "qdrant_client = QdrantClient(\n",
    "    url=\"\", \n",
    "    api_key=\"\",\n",
    ")\n",
    "\n",
    "print(qdrant_client.get_collections())"
   ]
  },
  {
   "cell_type": "code",
   "execution_count": 9,
   "metadata": {},
   "outputs": [
    {
     "name": "stderr",
     "output_type": "stream",
     "text": [
      "/var/folders/m0/60pn89wx34l65l6n34pgnhmh0000gn/T/ipykernel_12226/27906353.py:2: DeprecationWarning: `recreate_collection` method is deprecated and will be removed in the future. Use `collection_exists` to check collection existence and `create_collection` instead.\n",
      "  qdrant_client.recreate_collection(\n"
     ]
    },
    {
     "data": {
      "text/plain": [
       "True"
      ]
     },
     "execution_count": 9,
     "metadata": {},
     "output_type": "execute_result"
    }
   ],
   "source": [
    "# 콜렉션 생성 및 기본 컨피그 설정\n",
    "qdrant_client.recreate_collection(\n",
    "    collection_name=\"wiki_sample\",\n",
    "    vectors_config=models.VectorParams(\n",
    "        size=1536, \n",
    "        distance=models.Distance.COSINE,\n",
    "    ),\n",
    ")"
   ]
  },
  {
   "cell_type": "code",
   "execution_count": 10,
   "metadata": {},
   "outputs": [],
   "source": [
    "# 생성된 임베딩 벡터 업서트\n",
    "qdrant_client.upload_points(\n",
    "    collection_name=\"wiki_sample\",\n",
    "    points=[\n",
    "        models.PointStruct(\n",
    "            id=int(row.id), vector=row[\"embedding\"], payload={\"title\": row['title'], \"text\":row['text']}\n",
    "        )\n",
    "        for index, row in data.iterrows()\n",
    "    ],\n",
    ")"
   ]
  },
  {
   "cell_type": "code",
   "execution_count": 11,
   "metadata": {},
   "outputs": [
    {
     "name": "stderr",
     "output_type": "stream",
     "text": [
      "/var/folders/m0/60pn89wx34l65l6n34pgnhmh0000gn/T/ipykernel_12226/2332528904.py:2: DeprecationWarning: `recreate_collection` method is deprecated and will be removed in the future. Use `collection_exists` to check collection existence and `create_collection` instead.\n",
      "  qdrant_client.recreate_collection(\n"
     ]
    }
   ],
   "source": [
    "# 인덱싱 퀀타이즈 걸어서 하기\n",
    "qdrant_client.recreate_collection(\n",
    "    collection_name=\"wiki_sample_sq\",\n",
    "    vectors_config=models.VectorParams(\n",
    "        size=1536, \n",
    "        distance=models.Distance.COSINE,\n",
    "    ),\n",
    "    quantization_config=models.ScalarQuantization(\n",
    "        scalar=models.ScalarQuantizationConfig(\n",
    "            type=models.ScalarType.INT8,\n",
    "            quantile=0.99,\n",
    "            always_ram=True,\n",
    "        ),\n",
    "    ),\n",
    ")\n",
    "\n",
    "# 퀀타이즈드 콜렉션에 동일한 데이터 업로드\n",
    "qdrant_client.upload_points(\n",
    "    collection_name=\"wiki_sample_sq\",\n",
    "    points=[\n",
    "        models.PointStruct(\n",
    "            id=int(row.id), vector=row[\"embedding\"], payload={\"title\": row['title'], \"text\":row['text']}\n",
    "        )\n",
    "        for index, row in data.iterrows()\n",
    "    ],\n",
    ")"
   ]
  },
  {
   "cell_type": "code",
   "execution_count": 12,
   "metadata": {},
   "outputs": [
    {
     "name": "stdout",
     "output_type": "stream",
     "text": [
      "{'text': 'Zope은 파이썬으로 작성된 자유-오픈 소스 웹 애플리케이션 서버이자 관련 온라인 커뮤니티의 이름이다. Zope은 \"Z Object Publishing Environment\"을 의미하며 현재 흔히 쓰이는 웹의 객체 게시 방식을 사용한 최초의 시스템이었다. Zope은 파이썬이 조명을 받는데 크게 도움을 준 애플리케이션이자 파이썬 킬러 앱으로 불리고 있다.\\n\\nZope 버전 \\n Zope 2\\n BlueBream\\n Zope Toolkit\\n Grok\\n Zope 4\\n Zope 5\\n\\nZope 페이지 템플릿 예시 \\n<div tal:condition=\"...\">\\n  ...\\n</div>\\n\\nZope을 사용하는 저명한 소프트웨어 \\n 스쿨툴은 Zope을 사용하는 오픈 소스 학생 정보 시스템이다. 플론은 Zope을 사용하는 오픈 소스 저작물 관리 시스템이다.\\n\\n같이 보기 \\n Pylons\\n 장고 (웹 프레임워크)\\n web2py\\n 콘텐츠 관리\\n 저작물 관리 시스템\\n 플론\\n 트위스티드 (소프트웨어)\\n\\n각주\\n\\n외부 링크 \\n \\n\\n크로스 플랫폼 자유 소프트웨어\\n자유 저작물 관리 시스템\\n파이썬으로 작성된 자유 소프트웨어\\n파이썬 웹 프레임워크\\n웹 개발 소프트웨어\\n미국의 소프트웨어 기업', 'title': 'Zope'} score: 0.3744105\n",
      "{'text': '웹민(Webmin)은 유닉스 계열 시스템을 위한 강력하고 유연한 웹 기반 서버 관리 제어판이다. 웹민을 통해 사용자는 사용자, 디스크 할당량, 서비스, 구성 파일 등 운영 체제의 내부 부분을 구성하고 아파치 HTTP 서버, PHP, MySQL 등의 오픈 소스 앱들을 수정하고 제어할 수 있다.\\n\\n개요 \\n웹민은 대부분 펄에 기반을 두며 자체 프로세스와 웹 서버로서 실행된다. TCP 포트 10000을 기본값으로 사용한다. OpenSSL이 추가 필요 펄 모듈들과 함께 설치된 경우 SSL을 사용하도록 구성할 수 있다.\\n\\n같이 보기 \\n YaST\\n\\n각주\\n\\n외부 링크 \\n \\n Webmin documentation wiki\\n\\n펄 소프트웨어\\nBSD 라이선스 소프트웨어', 'title': '웹민'} score: 0.25269163\n",
      "{'text': \"울프럼 리서치(Wolfram Research)는 연산 기술을 개발하는 미국의 다국적 기업이다. 울프럼의 대표 제품은 기술 컴퓨팅 프로그램인 울프럼 매스매티카이며 1988년 6월 23일 처음 출시되었다. 다른 제품들로는 울프럼 알파, 울프럼 시스템모델러, 울프럼 워크벤치, gridMathematica, 울프럼 파이낸스 플랫폼(Wolfram Finance Platform), webMathematica, 울프럼 클라우드 울프럼 프로그래밍 랩이 있다. 울프럼의 최고경영자(CEO)는 창립자 스티븐 울프럼이다. 이 기업의 본사는 미국 일리노이주 섐페인에 위치해 있다.\\n\\n같이 보기 \\n 에릭 웨이스타인\\n\\n각주\\n\\n외부 링크 \\n \\n Official Wolfram Research Twitter Account\\n Hoovers Fact Sheet on Wolfram Research, Inc.\\n The Mathematics Behind NUMB3RS, Wolfram's site on NUMB3RS mathematics.\\n\\n섐페인 (일리노이주)\\n클라우드 컴퓨팅 제공자\\n수학 소프트웨어\\n미국의 다국적 기업\\n미국의 소프트웨어 기업\", 'title': '울프럼 리서치'} score: 0.24316937\n"
     ]
    }
   ],
   "source": [
    "# 생성된 콜렉션 기반 top_3 서치 function 테스팅\n",
    "text = \"파이썬 오픈소스\"\n",
    "hits = qdrant_client.search(\n",
    "    collection_name=\"wiki_sample\",\n",
    "    query_vector=client.embeddings.create(input = [text], model='text-embedding-3-small').data[0].embedding,\n",
    "    limit=3,\n",
    ")\n",
    "for hit in hits:\n",
    "    print(hit.payload, \"score:\", hit.score)"
   ]
  },
  {
   "cell_type": "code",
   "execution_count": 13,
   "metadata": {},
   "outputs": [
    {
     "name": "stdout",
     "output_type": "stream",
     "text": [
      "{'text': 'Zope은 파이썬으로 작성된 자유-오픈 소스 웹 애플리케이션 서버이자 관련 온라인 커뮤니티의 이름이다. Zope은 \"Z Object Publishing Environment\"을 의미하며 현재 흔히 쓰이는 웹의 객체 게시 방식을 사용한 최초의 시스템이었다. Zope은 파이썬이 조명을 받는데 크게 도움을 준 애플리케이션이자 파이썬 킬러 앱으로 불리고 있다.\\n\\nZope 버전 \\n Zope 2\\n BlueBream\\n Zope Toolkit\\n Grok\\n Zope 4\\n Zope 5\\n\\nZope 페이지 템플릿 예시 \\n<div tal:condition=\"...\">\\n  ...\\n</div>\\n\\nZope을 사용하는 저명한 소프트웨어 \\n 스쿨툴은 Zope을 사용하는 오픈 소스 학생 정보 시스템이다. 플론은 Zope을 사용하는 오픈 소스 저작물 관리 시스템이다.\\n\\n같이 보기 \\n Pylons\\n 장고 (웹 프레임워크)\\n web2py\\n 콘텐츠 관리\\n 저작물 관리 시스템\\n 플론\\n 트위스티드 (소프트웨어)\\n\\n각주\\n\\n외부 링크 \\n \\n\\n크로스 플랫폼 자유 소프트웨어\\n자유 저작물 관리 시스템\\n파이썬으로 작성된 자유 소프트웨어\\n파이썬 웹 프레임워크\\n웹 개발 소프트웨어\\n미국의 소프트웨어 기업', 'title': 'Zope'} score: 0.3744105\n",
      "{'text': '웹민(Webmin)은 유닉스 계열 시스템을 위한 강력하고 유연한 웹 기반 서버 관리 제어판이다. 웹민을 통해 사용자는 사용자, 디스크 할당량, 서비스, 구성 파일 등 운영 체제의 내부 부분을 구성하고 아파치 HTTP 서버, PHP, MySQL 등의 오픈 소스 앱들을 수정하고 제어할 수 있다.\\n\\n개요 \\n웹민은 대부분 펄에 기반을 두며 자체 프로세스와 웹 서버로서 실행된다. TCP 포트 10000을 기본값으로 사용한다. OpenSSL이 추가 필요 펄 모듈들과 함께 설치된 경우 SSL을 사용하도록 구성할 수 있다.\\n\\n같이 보기 \\n YaST\\n\\n각주\\n\\n외부 링크 \\n \\n Webmin documentation wiki\\n\\n펄 소프트웨어\\nBSD 라이선스 소프트웨어', 'title': '웹민'} score: 0.25269163\n",
      "{'text': \"울프럼 리서치(Wolfram Research)는 연산 기술을 개발하는 미국의 다국적 기업이다. 울프럼의 대표 제품은 기술 컴퓨팅 프로그램인 울프럼 매스매티카이며 1988년 6월 23일 처음 출시되었다. 다른 제품들로는 울프럼 알파, 울프럼 시스템모델러, 울프럼 워크벤치, gridMathematica, 울프럼 파이낸스 플랫폼(Wolfram Finance Platform), webMathematica, 울프럼 클라우드 울프럼 프로그래밍 랩이 있다. 울프럼의 최고경영자(CEO)는 창립자 스티븐 울프럼이다. 이 기업의 본사는 미국 일리노이주 섐페인에 위치해 있다.\\n\\n같이 보기 \\n 에릭 웨이스타인\\n\\n각주\\n\\n외부 링크 \\n \\n Official Wolfram Research Twitter Account\\n Hoovers Fact Sheet on Wolfram Research, Inc.\\n The Mathematics Behind NUMB3RS, Wolfram's site on NUMB3RS mathematics.\\n\\n섐페인 (일리노이주)\\n클라우드 컴퓨팅 제공자\\n수학 소프트웨어\\n미국의 다국적 기업\\n미국의 소프트웨어 기업\", 'title': '울프럼 리서치'} score: 0.24316937\n"
     ]
    }
   ],
   "source": [
    "# SQ 버전 콜렉션에도 동일하게 진행\n",
    "text = \"파이썬 오픈소스\"\n",
    "hits = qdrant_client.search(\n",
    "    collection_name=\"wiki_sample_sq\",\n",
    "    query_vector=client.embeddings.create(input = [text], model='text-embedding-3-small').data[0].embedding,\n",
    "    limit=3,\n",
    ")\n",
    "for hit in hits:\n",
    "    print(hit.payload, \"score:\", hit.score)"
   ]
  },
  {
   "cell_type": "code",
   "execution_count": null,
   "metadata": {},
   "outputs": [],
   "source": []
  }
 ],
 "metadata": {
  "kernelspec": {
   "display_name": ".venv",
   "language": "python",
   "name": "python3"
  },
  "language_info": {
   "codemirror_mode": {
    "name": "ipython",
    "version": 3
   },
   "file_extension": ".py",
   "mimetype": "text/x-python",
   "name": "python",
   "nbconvert_exporter": "python",
   "pygments_lexer": "ipython3",
   "version": "3.9.6"
  }
 },
 "nbformat": 4,
 "nbformat_minor": 2
}
