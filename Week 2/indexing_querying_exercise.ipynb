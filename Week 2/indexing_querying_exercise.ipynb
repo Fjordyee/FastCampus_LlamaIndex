{
 "cells": [
  {
   "cell_type": "code",
   "execution_count": 14,
   "metadata": {},
   "outputs": [],
   "source": [
    "# API 키 설정\n",
    "import os\n",
    "os.environ[\"OPENAI_API_KEY\"] = \"<본인 API 키>\""
   ]
  },
  {
   "cell_type": "code",
   "execution_count": 16,
   "metadata": {},
   "outputs": [],
   "source": [
    "# 한글 위키피디아 허깅페이스 데이터 로드\n",
    "from datasets import load_dataset\n",
    "ds = load_dataset(\"lcw99/wikipedia-korean-20221001\", split='train[-20:]')"
   ]
  },
  {
   "cell_type": "code",
   "execution_count": 17,
   "metadata": {},
   "outputs": [
    {
     "data": {
      "text/plain": [
       "Dataset({\n",
       "    features: ['id', 'url', 'title', 'text'],\n",
       "    num_rows: 20\n",
       "})"
      ]
     },
     "execution_count": 17,
     "metadata": {},
     "output_type": "execute_result"
    }
   ],
   "source": [
    "# 데이터셋 메타 확인\n",
    "ds"
   ]
  },
  {
   "cell_type": "code",
   "execution_count": null,
   "metadata": {},
   "outputs": [],
   "source": [
    "# 허깅페이스 데이터셋 판다스 데이터프레임으로 변환 \n",
    "data = \n",
    "data.head()"
   ]
  },
  {
   "cell_type": "code",
   "execution_count": null,
   "metadata": {},
   "outputs": [],
   "source": [
    "# Dataframe의 새 컬럼으로 임베딩 미리 계산해서 넣어주기\n",
    "from openai import OpenAI\n",
    "client = OpenAI()\n",
    "\n",
    "def get_embedding(text, model=\"text-embedding-3-small\"):\n",
    "   text = text.replace(\"\\n\", \" \")\n",
    "   return client.embeddings.create(input = [text], model=model).data[0].embedding\n",
    "\n",
    "data['embedding'] = data['text'].apply(lambda x: get_embedding())"
   ]
  },
  {
   "cell_type": "code",
   "execution_count": null,
   "metadata": {},
   "outputs": [],
   "source": [
    "# 데이터 확인\n",
    "data"
   ]
  },
  {
   "cell_type": "code",
   "execution_count": null,
   "metadata": {},
   "outputs": [],
   "source": [
    "# 임베딩 차원 수 확인"
   ]
  },
  {
   "cell_type": "code",
   "execution_count": null,
   "metadata": {},
   "outputs": [],
   "source": [
    "# Qdrant 클라이은트 설정\n",
    "from qdrant_client import QdrantClient, models\n",
    "\n",
    "qdrant_client = QdrantClient(\n",
    "    url=\"<Qdrant url>\", \n",
    "    api_key=\"<Qdrant api키>\",\n",
    ")\n",
    "\n",
    "# 생성된 콜렉션 확인해보기"
   ]
  },
  {
   "cell_type": "code",
   "execution_count": null,
   "metadata": {},
   "outputs": [],
   "source": [
    "# 콜렉션 생성 및 기본 컨피그 설정\n",
    "qdrant_client.recreate_collection(\n",
    "    collection_name=\"<콜렉션명>\",\n",
    "    vectors_config=models.VectorParams(\n",
    "        size=, \n",
    "        distance=\n",
    "    ),\n",
    ")"
   ]
  },
  {
   "cell_type": "code",
   "execution_count": null,
   "metadata": {},
   "outputs": [],
   "source": [
    "# 생성된 임베딩 벡터 업서트\n",
    "qdrant_client.upload_points(\n",
    "    collection_name=\"<콜렉션명>\",\n",
    "    points=[\n",
    "        models.PointStruct(\n",
    "            id=int(row.id), vector=, payload={}\n",
    "        )\n",
    "        for index, row in data.iterrows()\n",
    "    ],\n",
    ")"
   ]
  },
  {
   "cell_type": "code",
   "execution_count": null,
   "metadata": {},
   "outputs": [],
   "source": [
    "# 인덱싱 퀀타이즈 걸어서 하기\n",
    "qdrant_client.recreate_collection(\n",
    "    collection_name=\"<콜렉션명>\",\n",
    "    vectors_config=models.VectorParams(\n",
    "        size=, \n",
    "        distance=\n",
    "    ),\n",
    "    quantization_config=models.ScalarQuantization(\n",
    "        scalar=models.ScalarQuantizationConfig(\n",
    "            type=,\n",
    "            quantile=,\n",
    "            always_ram=True,\n",
    "        ),\n",
    "    ),\n",
    ")\n",
    "\n",
    "# 퀀타이즈드 콜렉션에 동일한 데이터 업로드\n",
    "qdrant_client.upload_points(\n",
    "    collection_name=\"<콜렉션명>\",\n",
    "    points=[\n",
    "        models.PointStruct(\n",
    "            id=int(row.id), vector=, payload={}\n",
    "        )\n",
    "        for index, row in data.iterrows()\n",
    "    ],\n",
    ")"
   ]
  },
  {
   "cell_type": "code",
   "execution_count": null,
   "metadata": {},
   "outputs": [],
   "source": [
    "# 생성된 콜렉션 기반 top_3 서치 function 테스팅\n",
    "text = \n",
    "hits = qdrant_client.search(\n",
    "    collection_name=\"<콜렉션명>\",\n",
    "    query_vector=client.embeddings.create(input = [text], model='text-embedding-3-small').data[0].embedding,\n",
    "    limit=,\n",
    ")\n",
    "for hit in hits:\n",
    "    print(hit.payload, \"score:\", hit.score)"
   ]
  },
  {
   "cell_type": "code",
   "execution_count": null,
   "metadata": {},
   "outputs": [],
   "source": [
    "# SQ 버전 콜렉션에도 동일하게 진행\n",
    "text = \n",
    "hits = qdrant_client.search(\n",
    "    collection_name=\"<콜렉션명>\",\n",
    "    query_vector=client.embeddings.create(input = [text], model='text-embedding-3-small').data[0].embedding,\n",
    "    limit=,\n",
    ")\n",
    "for hit in hits:\n",
    "    print(hit.payload, \"score:\", hit.score)"
   ]
  },
  {
   "cell_type": "code",
   "execution_count": null,
   "metadata": {},
   "outputs": [],
   "source": []
  }
 ],
 "metadata": {
  "kernelspec": {
   "display_name": ".venv",
   "language": "python",
   "name": "python3"
  },
  "language_info": {
   "codemirror_mode": {
    "name": "ipython",
    "version": 3
   },
   "file_extension": ".py",
   "mimetype": "text/x-python",
   "name": "python",
   "nbconvert_exporter": "python",
   "pygments_lexer": "ipython3",
   "version": "3.9.6"
  }
 },
 "nbformat": 4,
 "nbformat_minor": 2
}
